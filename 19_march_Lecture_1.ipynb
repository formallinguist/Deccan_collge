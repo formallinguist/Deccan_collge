{
 "cells": [
  {
   "cell_type": "code",
   "execution_count": 5,
   "id": "e5063003-6dd7-4806-8105-d5d05a628c2b",
   "metadata": {},
   "outputs": [
    {
     "name": "stdout",
     "output_type": "stream",
     "text": [
      "Hello world\n"
     ]
    }
   ],
   "source": [
    "#Here we are using the double quotes\n",
    "print(\"Hello world\")"
   ]
  },
  {
   "cell_type": "code",
   "execution_count": 2,
   "id": "eeb56b95-f9f6-472d-9adc-6e46a70c0c2b",
   "metadata": {},
   "outputs": [
    {
     "name": "stdout",
     "output_type": "stream",
     "text": [
      "Hello world\n"
     ]
    }
   ],
   "source": [
    "#Here we are using the string with single quotes.\n",
    "print('Hello world')"
   ]
  },
  {
   "cell_type": "code",
   "execution_count": 6,
   "id": "2ea6006b-49a4-402c-99df-8978e2896d0e",
   "metadata": {},
   "outputs": [
    {
     "name": "stdout",
     "output_type": "stream",
     "text": [
      "Hello world\n",
      "Hello Friends\n",
      "Welcome...\n"
     ]
    }
   ],
   "source": [
    "print('Hello world')\n",
    "print(\"Hello Friends\")\n",
    "print('Welcome...')"
   ]
  },
  {
   "cell_type": "code",
   "execution_count": 9,
   "id": "ca34e78a-0042-49dd-9c97-ff29347c802a",
   "metadata": {},
   "outputs": [],
   "source": [
    "# \"=\" is an assignment operator.\n",
    "num = 45"
   ]
  },
  {
   "cell_type": "code",
   "execution_count": 8,
   "id": "f18b417e-82ec-4812-9382-8d653830369d",
   "metadata": {},
   "outputs": [
    {
     "name": "stdout",
     "output_type": "stream",
     "text": [
      "45\n"
     ]
    }
   ],
   "source": [
    "print(num)"
   ]
  },
  {
   "cell_type": "code",
   "execution_count": 10,
   "id": "31e650d6-778e-4b26-b4d4-65e14107fe8d",
   "metadata": {},
   "outputs": [],
   "source": [
    "num1 = 58\n",
    "num2 = 87.23"
   ]
  },
  {
   "cell_type": "code",
   "execution_count": 11,
   "id": "43d651e3-337f-466f-b842-18af75d56769",
   "metadata": {},
   "outputs": [
    {
     "name": "stdout",
     "output_type": "stream",
     "text": [
      "58 87.23\n"
     ]
    }
   ],
   "source": [
    "print(num1,num2)"
   ]
  },
  {
   "cell_type": "code",
   "execution_count": 16,
   "id": "4e8acc96-61ab-4926-8156-23579ac17067",
   "metadata": {},
   "outputs": [
    {
     "data": {
      "text/plain": [
       "int"
      ]
     },
     "execution_count": 16,
     "metadata": {},
     "output_type": "execute_result"
    }
   ],
   "source": [
    "#Type is a function that is used to check what type of data it has internally.\n",
    "type(num1)"
   ]
  },
  {
   "cell_type": "code",
   "execution_count": 17,
   "id": "2c7675de-ec2a-45c6-8c17-0f020879b0ce",
   "metadata": {},
   "outputs": [
    {
     "data": {
      "text/plain": [
       "float"
      ]
     },
     "execution_count": 17,
     "metadata": {},
     "output_type": "execute_result"
    }
   ],
   "source": [
    "type(num2)"
   ]
  },
  {
   "cell_type": "code",
   "execution_count": 18,
   "id": "91f833b7-d2ed-4b84-b332-8a978d53a21e",
   "metadata": {},
   "outputs": [],
   "source": [
    "name = 'Ravi'"
   ]
  },
  {
   "cell_type": "code",
   "execution_count": 19,
   "id": "d67386e6-fa4d-459c-ad89-970c0aa3b025",
   "metadata": {},
   "outputs": [
    {
     "data": {
      "text/plain": [
       "str"
      ]
     },
     "execution_count": 19,
     "metadata": {},
     "output_type": "execute_result"
    }
   ],
   "source": [
    "type(name)"
   ]
  },
  {
   "cell_type": "code",
   "execution_count": 20,
   "id": "5059aecc-18d8-484f-990f-72019ff246c8",
   "metadata": {},
   "outputs": [],
   "source": [
    "#integers can take any number.\n",
    "num = 12345678910"
   ]
  },
  {
   "cell_type": "code",
   "execution_count": 21,
   "id": "c235cdcf-8d38-4ff6-a05e-bedf9e111d23",
   "metadata": {},
   "outputs": [
    {
     "name": "stdout",
     "output_type": "stream",
     "text": [
      "12345678910\n"
     ]
    }
   ],
   "source": [
    "print(num)"
   ]
  },
  {
   "cell_type": "code",
   "execution_count": 22,
   "id": "6200278f-f170-4612-a1a0-d787da2f0a85",
   "metadata": {},
   "outputs": [
    {
     "data": {
      "text/plain": [
       "160493825830"
      ]
     },
     "execution_count": 22,
     "metadata": {},
     "output_type": "execute_result"
    }
   ],
   "source": [
    "num * 13"
   ]
  },
  {
   "cell_type": "code",
   "execution_count": 23,
   "id": "b98b1946-3479-4600-968f-82f5f26af5e2",
   "metadata": {},
   "outputs": [],
   "source": [
    "## OPerations."
   ]
  },
  {
   "cell_type": "code",
   "execution_count": 24,
   "id": "b9d9a056-9fd5-4151-aecd-608bf44a987d",
   "metadata": {},
   "outputs": [],
   "source": [
    "#creating three variables at a time\n",
    "a,b,c = 1,2,3"
   ]
  },
  {
   "cell_type": "code",
   "execution_count": 25,
   "id": "b28cb749-88c6-4601-9f7b-50fed9413a39",
   "metadata": {},
   "outputs": [
    {
     "name": "stdout",
     "output_type": "stream",
     "text": [
      "1\n"
     ]
    }
   ],
   "source": [
    "print(a)"
   ]
  },
  {
   "cell_type": "code",
   "execution_count": 26,
   "id": "4c68c2f9-7c21-41f4-98af-d1996d1b1d96",
   "metadata": {},
   "outputs": [
    {
     "name": "stdout",
     "output_type": "stream",
     "text": [
      "2\n"
     ]
    }
   ],
   "source": [
    "print(b)"
   ]
  },
  {
   "cell_type": "code",
   "execution_count": 27,
   "id": "e952e932-41d3-48a9-a1f5-f60182a229cb",
   "metadata": {},
   "outputs": [
    {
     "name": "stdout",
     "output_type": "stream",
     "text": [
      "3\n"
     ]
    }
   ],
   "source": [
    "print(c)"
   ]
  },
  {
   "cell_type": "code",
   "execution_count": 28,
   "id": "05a86374-5d0b-4881-aa40-c038d52cb261",
   "metadata": {},
   "outputs": [
    {
     "name": "stdout",
     "output_type": "stream",
     "text": [
      "99\n"
     ]
    }
   ],
   "source": [
    "a,b = 43,56\n",
    "add = a + b\n",
    "print(add)"
   ]
  },
  {
   "cell_type": "code",
   "execution_count": 29,
   "id": "f76f56c8-84cb-40bb-a4ec-c88eae79e5f6",
   "metadata": {},
   "outputs": [
    {
     "name": "stdout",
     "output_type": "stream",
     "text": [
      "Addition is  99\n"
     ]
    }
   ],
   "source": [
    "a,b = 43,56\n",
    "add = a + b\n",
    "print(\"Addition is \",add)"
   ]
  },
  {
   "cell_type": "code",
   "execution_count": 30,
   "id": "bcfd5eea-ec05-4a68-922d-609787ab0e84",
   "metadata": {},
   "outputs": [
    {
     "name": "stdout",
     "output_type": "stream",
     "text": [
      "My name is Ravi\n"
     ]
    }
   ],
   "source": [
    "# String data\n",
    "print(\"My name is\", name)"
   ]
  },
  {
   "cell_type": "code",
   "execution_count": 31,
   "id": "179481a8-4b3d-47c7-a2d2-70aa814fb785",
   "metadata": {},
   "outputs": [],
   "source": [
    "sent = \"I like 'python' programming\""
   ]
  },
  {
   "cell_type": "code",
   "execution_count": 32,
   "id": "335e831f-765a-49ea-9cf0-451c2f55fde4",
   "metadata": {},
   "outputs": [
    {
     "name": "stdout",
     "output_type": "stream",
     "text": [
      "I like 'python' programming\n"
     ]
    }
   ],
   "source": [
    "print(sent)"
   ]
  },
  {
   "cell_type": "code",
   "execution_count": 33,
   "id": "5f4203fc-180c-4be9-a3ec-de10af5bf2e7",
   "metadata": {},
   "outputs": [],
   "source": [
    "sent = 'I like \"python\" programming.'"
   ]
  },
  {
   "cell_type": "code",
   "execution_count": 34,
   "id": "a9d04908-7aab-409e-990b-2de8b46f5967",
   "metadata": {},
   "outputs": [
    {
     "name": "stdout",
     "output_type": "stream",
     "text": [
      "I like \"python\" programming.\n"
     ]
    }
   ],
   "source": [
    "print(sent)"
   ]
  },
  {
   "cell_type": "code",
   "execution_count": 35,
   "id": "5a2cabad-fcfe-4cfa-b0ac-0afe5118b140",
   "metadata": {},
   "outputs": [
    {
     "data": {
      "text/plain": [
       "'RAVI'"
      ]
     },
     "execution_count": 35,
     "metadata": {},
     "output_type": "execute_result"
    }
   ],
   "source": [
    "name.upper()"
   ]
  },
  {
   "cell_type": "code",
   "execution_count": 37,
   "id": "0ccc282f-91ca-4030-ba80-64655c65cd08",
   "metadata": {},
   "outputs": [
    {
     "data": {
      "text/plain": [
       "'ravi'"
      ]
     },
     "execution_count": 37,
     "metadata": {},
     "output_type": "execute_result"
    }
   ],
   "source": [
    "name.lower()"
   ]
  },
  {
   "cell_type": "code",
   "execution_count": 39,
   "id": "775377ae-bb17-4e5c-a00d-a96ce53feeb6",
   "metadata": {},
   "outputs": [
    {
     "data": {
      "text/plain": [
       "'rAVI'"
      ]
     },
     "execution_count": 39,
     "metadata": {},
     "output_type": "execute_result"
    }
   ],
   "source": [
    "name.swapcase()"
   ]
  },
  {
   "cell_type": "code",
   "execution_count": 40,
   "id": "068c69b5-d0ab-4845-b5e5-2ed6c2249bfb",
   "metadata": {},
   "outputs": [
    {
     "data": {
      "text/plain": [
       "'Ravi'"
      ]
     },
     "execution_count": 40,
     "metadata": {},
     "output_type": "execute_result"
    }
   ],
   "source": [
    "name.title()"
   ]
  },
  {
   "cell_type": "code",
   "execution_count": 41,
   "id": "f57832d1-0216-4a64-8838-1e12328c95db",
   "metadata": {},
   "outputs": [
    {
     "data": {
      "text/plain": [
       "'Roovi'"
      ]
     },
     "execution_count": 41,
     "metadata": {},
     "output_type": "execute_result"
    }
   ],
   "source": [
    "name.replace('a','oo')"
   ]
  },
  {
   "cell_type": "code",
   "execution_count": 42,
   "id": "fc8991af-9aa2-43f7-9713-c8a7dd540cd2",
   "metadata": {},
   "outputs": [
    {
     "name": "stdout",
     "output_type": "stream",
     "text": [
      "Help on built-in function find:\n",
      "\n",
      "find(...) method of builtins.str instance\n",
      "    S.find(sub[, start[, end]]) -> int\n",
      "    \n",
      "    Return the lowest index in S where substring sub is found,\n",
      "    such that sub is contained within S[start:end].  Optional\n",
      "    arguments start and end are interpreted as in slice notation.\n",
      "    \n",
      "    Return -1 on failure.\n",
      "\n"
     ]
    }
   ],
   "source": [
    "help(name.find)"
   ]
  },
  {
   "cell_type": "code",
   "execution_count": 53,
   "id": "b775158a-579e-4f3f-a015-13489d881ca4",
   "metadata": {},
   "outputs": [
    {
     "data": {
      "text/plain": [
       "'Ravi Shillong'"
      ]
     },
     "execution_count": 53,
     "metadata": {},
     "output_type": "execute_result"
    }
   ],
   "source": [
    "name  + \" \" + \"Shillong\""
   ]
  },
  {
   "cell_type": "code",
   "execution_count": 54,
   "id": "4588e61d-021e-40d0-b660-211f0607167a",
   "metadata": {},
   "outputs": [
    {
     "data": {
      "text/plain": [
       "'RaviRaviRavi'"
      ]
     },
     "execution_count": 54,
     "metadata": {},
     "output_type": "execute_result"
    }
   ],
   "source": [
    "name * 3"
   ]
  },
  {
   "cell_type": "code",
   "execution_count": 55,
   "id": "0804a585-b0cc-47cc-a645-47301f9f8961",
   "metadata": {},
   "outputs": [
    {
     "data": {
      "text/plain": [
       "'Ravi Ravi Ravi '"
      ]
     },
     "execution_count": 55,
     "metadata": {},
     "output_type": "execute_result"
    }
   ],
   "source": [
    "(name + \" \") * 3"
   ]
  },
  {
   "cell_type": "code",
   "execution_count": 56,
   "id": "03ce6781-5e90-4924-82c8-2868b90df938",
   "metadata": {},
   "outputs": [
    {
     "name": "stdout",
     "output_type": "stream",
     "text": [
      "Addition is  99\n"
     ]
    }
   ],
   "source": [
    "a,b = 43,56\n",
    "add = a + b  # This is an addition statement\n",
    "print(\"Addition is \",add)"
   ]
  },
  {
   "cell_type": "code",
   "execution_count": 61,
   "id": "f3c17d2c-7ab8-4913-a3d9-fcc0ce6ef67c",
   "metadata": {},
   "outputs": [],
   "source": [
    "#Multi line string.\n",
    "line = ''' \n",
    "           I love apples\n",
    "           I love Delhi University\n",
    "           I love Eflu'''"
   ]
  },
  {
   "cell_type": "code",
   "execution_count": 62,
   "id": "59fa7520-856b-4efc-9d03-4e7af7236085",
   "metadata": {},
   "outputs": [
    {
     "name": "stdout",
     "output_type": "stream",
     "text": [
      " \n",
      "           I love apples\n",
      "           I love Delhi University\n",
      "           I love Eflu\n"
     ]
    }
   ],
   "source": [
    "print(line)"
   ]
  },
  {
   "cell_type": "code",
   "execution_count": 63,
   "id": "0f24c7f2-8b30-425e-8d32-bb3636ae8836",
   "metadata": {},
   "outputs": [],
   "source": [
    "#using google toolkit in Indian languages.\n",
    "#https://www.google.com/intl/sa/inputtools/try/\n",
    "name = \"రవి\""
   ]
  },
  {
   "cell_type": "code",
   "execution_count": 64,
   "id": "1cae3ce7-b81b-40c1-a5d8-8f684d431863",
   "metadata": {},
   "outputs": [
    {
     "name": "stdout",
     "output_type": "stream",
     "text": [
      "రవి\n"
     ]
    }
   ],
   "source": [
    "print(name)"
   ]
  },
  {
   "cell_type": "code",
   "execution_count": 65,
   "id": "de1e8404-f9b5-4cd4-9ea7-c59004927690",
   "metadata": {},
   "outputs": [
    {
     "data": {
      "text/plain": [
       "True"
      ]
     },
     "execution_count": 65,
     "metadata": {},
     "output_type": "execute_result"
    }
   ],
   "source": [
    "name.startswith('ర')"
   ]
  },
  {
   "cell_type": "code",
   "execution_count": 67,
   "id": "fa10e0ad-decb-4555-8095-8caf679edb9f",
   "metadata": {},
   "outputs": [
    {
     "data": {
      "text/plain": [
       "False"
      ]
     },
     "execution_count": 67,
     "metadata": {},
     "output_type": "execute_result"
    }
   ],
   "source": [
    "name.endswith('ర')"
   ]
  },
  {
   "cell_type": "code",
   "execution_count": 68,
   "id": "ef1a31d8-78bb-44c0-91cc-89dd65f75d6a",
   "metadata": {},
   "outputs": [],
   "source": [
    "name = \"Ravi\"\n",
    "marks = 89"
   ]
  },
  {
   "cell_type": "code",
   "execution_count": 75,
   "id": "a7f2241a-8646-47b4-95bc-64c40526d3dd",
   "metadata": {},
   "outputs": [
    {
     "name": "stdout",
     "output_type": "stream",
     "text": [
      "name is: Ravi , Marks are: 89\n"
     ]
    }
   ],
   "source": [
    "print(\"name is:\",name,\", Marks are:\",marks)"
   ]
  },
  {
   "cell_type": "code",
   "execution_count": 77,
   "id": "10fb1650-67fa-408c-8954-1cd1c2e40d96",
   "metadata": {},
   "outputs": [
    {
     "name": "stdout",
     "output_type": "stream",
     "text": [
      "My name is Ravi and my marks are 89.000000\n"
     ]
    }
   ],
   "source": [
    "#Formatted print method.\n",
    "print('My name is %s and my marks are %f'%(name,marks)) # %f is float"
   ]
  },
  {
   "cell_type": "code",
   "execution_count": 78,
   "id": "b4a0d4ee-1131-4374-b91f-6885aaf1ad4f",
   "metadata": {},
   "outputs": [
    {
     "name": "stdout",
     "output_type": "stream",
     "text": [
      "My name is Ravi and my marks are 89\n"
     ]
    }
   ],
   "source": [
    "print('My name is %s and my marks are %i'%(name,marks)) #%i is an integer."
   ]
  },
  {
   "cell_type": "code",
   "execution_count": 79,
   "id": "664787cc-16a8-4794-b32d-f003107c61db",
   "metadata": {},
   "outputs": [],
   "source": [
    "# Operators, we need not use bitwise and identity operators.\n",
    "#Arethematic operators.\n",
    "num1 = 45\n",
    "num2 = 53"
   ]
  },
  {
   "cell_type": "code",
   "execution_count": 84,
   "id": "c1df496e-7c1b-4d25-a0d6-355765c82bb9",
   "metadata": {},
   "outputs": [
    {
     "name": "stdout",
     "output_type": "stream",
     "text": [
      "Addition is: 98\n",
      "Substraction is: -8\n",
      "Multiplication is: 2385\n",
      "Division is: 0.8490566037735849\n",
      "floor Division is: 0\n",
      "Remainder is: 45\n",
      "Raise/exponential to: 45\n"
     ]
    }
   ],
   "source": [
    "#Adition.\n",
    "add = num1 + num2\n",
    "print(\"Addition is:\",add)\n",
    "\n",
    "#Substraction.\n",
    "sub = num1 - num2\n",
    "print(\"Substraction is:\",sub)\n",
    "\n",
    "#Multiplication.\n",
    "mul = num1 * num2\n",
    "print(\"Multiplication is:\",mul)\n",
    "\n",
    "#Division.\n",
    "div = num1 / num2\n",
    "print(\"Division is:\",div)\n",
    "\n",
    "#Floor division.\n",
    "floor_div = num1 // num2\n",
    "print(\"floor Division is:\",floor_div)\n",
    "\n",
    "#Remainder.\n",
    "rem = num1 % num2\n",
    "print(\"Remainder is:\",rem)\n",
    "\n",
    "#Exponential.\n",
    "expo = num1 % num2\n",
    "print(\"Raise/exponential to:\",expo)"
   ]
  },
  {
   "cell_type": "code",
   "execution_count": 85,
   "id": "49cc5e19-0a8d-44f3-96ef-e053764e62b6",
   "metadata": {},
   "outputs": [
    {
     "name": "stdout",
     "output_type": "stream",
     "text": [
      "Greater Than                 : False\n",
      "Less Than                    : True\n",
      "Greater Than or  Equal to    : False\n",
      "Less Than  or Equal to       : True\n",
      "Equal to                     : False\n",
      "Not Equal to                 : True\n"
     ]
    }
   ],
   "source": [
    "#Relational operators.\n",
    "print('Greater Than                 :', num1 >   num2)\n",
    "print('Less Than                    :', num1 <   num2)\n",
    "print('Greater Than or  Equal to    :', num1 >=  num2)\n",
    "print('Less Than  or Equal to       :', num1 <=  num2)\n",
    "print('Equal to                     :', num1 ==  num2)\n",
    "print('Not Equal to                 :', num1 !=  num2)"
   ]
  },
  {
   "cell_type": "code",
   "execution_count": 87,
   "id": "8c85c065-ca6b-4f25-8d02-7a8fc24e055d",
   "metadata": {},
   "outputs": [
    {
     "name": "stdin",
     "output_type": "stream",
     "text": [
      "Enter the first number: 44\n",
      "Enter the second number: 54\n"
     ]
    },
    {
     "name": "stdout",
     "output_type": "stream",
     "text": [
      "Addition is 98\n"
     ]
    }
   ],
   "source": [
    "#Program to find the addition of two numbers.\n",
    "num1 = int(input('Enter the first number:'))\n",
    "num2 = int(input('Enter the second number:'))\n",
    "add = num1 + num2\n",
    "print(\"Addition is\", add)"
   ]
  },
  {
   "cell_type": "code",
   "execution_count": 88,
   "id": "a8f5ecc9-2e00-4953-8962-208de930e579",
   "metadata": {},
   "outputs": [
    {
     "name": "stdin",
     "output_type": "stream",
     "text": [
      "Enter the first number: 45.5\n",
      "Enter the second number: 46.7\n"
     ]
    },
    {
     "name": "stdout",
     "output_type": "stream",
     "text": [
      "Addition is 92.2\n"
     ]
    }
   ],
   "source": [
    "#Program to find the addition of two numbers using float.\n",
    "num1 = float(input('Enter the first number:'))\n",
    "num2 = float(input('Enter the second number:'))\n",
    "add = num1 + num2\n",
    "print(\"Addition is\", add)"
   ]
  },
  {
   "cell_type": "code",
   "execution_count": 90,
   "id": "d2b1ad65-08c2-4e4f-929a-15a6809df1bc",
   "metadata": {},
   "outputs": [
    {
     "name": "stdin",
     "output_type": "stream",
     "text": [
      "Enter the name Ravi\n"
     ]
    },
    {
     "name": "stdout",
     "output_type": "stream",
     "text": [
      "My name is Ravi\n",
      "My name is RAVI\n",
      "<class 'str'>\n"
     ]
    }
   ],
   "source": [
    "#We see that input takes the string.\n",
    "name = input(\"Enter the name\")\n",
    "print(\"My name is\", name)\n",
    "print(\"My name is\", name.upper())\n",
    "print(type(name))"
   ]
  },
  {
   "cell_type": "code",
   "execution_count": null,
   "id": "1f61418b-5eef-46d4-a99d-2fcdb647ae4b",
   "metadata": {},
   "outputs": [],
   "source": []
  }
 ],
 "metadata": {
  "kernelspec": {
   "display_name": "Python 3 (ipykernel)",
   "language": "python",
   "name": "python3"
  },
  "language_info": {
   "codemirror_mode": {
    "name": "ipython",
    "version": 3
   },
   "file_extension": ".py",
   "mimetype": "text/x-python",
   "name": "python",
   "nbconvert_exporter": "python",
   "pygments_lexer": "ipython3",
   "version": "3.11.7"
  }
 },
 "nbformat": 4,
 "nbformat_minor": 5
}
