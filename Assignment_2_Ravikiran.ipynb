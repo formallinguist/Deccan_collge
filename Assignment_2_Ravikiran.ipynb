{
  "nbformat": 4,
  "nbformat_minor": 0,
  "metadata": {
    "colab": {
      "name": "Assignment_2_Ravikiran.ipynb",
      "provenance": []
    },
    "kernelspec": {
      "name": "python3",
      "display_name": "Python 3"
    },
    "language_info": {
      "name": "python"
    }
  },
  "cells": [
    {
      "cell_type": "markdown",
      "source": [
        "#Question 1:"
      ],
      "metadata": {
        "id": "NABgldrSNYAN"
      }
    },
    {
      "cell_type": "code",
      "execution_count": 4,
      "metadata": {
        "colab": {
          "base_uri": "https://localhost:8080/"
        },
        "id": "RZVN3FdCNLTO",
        "outputId": "e6451784-2096-434e-ccbc-3b8cd6a118b1"
      },
      "outputs": [
        {
          "output_type": "stream",
          "name": "stdout",
          "text": [
            "Enter the actual cost: 45\n",
            "Enter the selling cost: 35\n",
            "-10  is loss\n"
          ]
        }
      ],
      "source": [
        "#Created input for actual_cost and selling_cost.\n",
        "Actual_cost = int(input('Enter the actual cost: '))\n",
        "Selling_cost = int(input('Enter the selling cost: '))\n",
        "# Calculated profit or loss.\n",
        "profit_loss = Selling_cost - Actual_cost\n",
        "if Actual_cost < Selling_cost:\n",
        "  print(profit_loss,\" is profit\")  \n",
        "else:\n",
        "  print(profit_loss,\" is loss\")"
      ]
    },
    {
      "cell_type": "markdown",
      "source": [
        "#Question 2:"
      ],
      "metadata": {
        "id": "SQSvlUdjNZsg"
      }
    },
    {
      "cell_type": "code",
      "source": [
        "#Created an input for basic salary\n",
        "Basic = float(input('Enter the value of Basic: '))\n",
        "#Calculating 75%of basic\n",
        "D_A = float(75/100)*Basic\n",
        "print('value of DA',D_A)\n",
        "#Calculated 20% of Hra\n",
        "Hra = float(20/100)*Basic\n",
        "print('Value of HRA',Hra)\n",
        "if Basic < 10000:\n",
        "  print(\"Gross is \", D_A+Basic)\n",
        "elif Basic <20000:\n",
        "  print(\"Gross is\", D_A+Basic+float(50/100)*Hra) #Calculated 50% of hra.\n",
        "if Basic >= 20000:\n",
        "  print(\"Gross is\", Basic+D_A+Hra)"
      ],
      "metadata": {
        "colab": {
          "base_uri": "https://localhost:8080/"
        },
        "id": "GKzQCsPONaeg",
        "outputId": "b96fad86-78fe-4414-a359-9a0fda4ee0d2"
      },
      "execution_count": 10,
      "outputs": [
        {
          "output_type": "stream",
          "name": "stdout",
          "text": [
            "Enter the value of Basic: 24000\n",
            "value of DA 18000.0\n",
            "Value of HRA 4800.0\n",
            "Gross is 46800.0\n"
          ]
        }
      ]
    },
    {
      "cell_type": "markdown",
      "source": [
        "#Question 3:"
      ],
      "metadata": {
        "id": "R8rY152xNfj2"
      }
    },
    {
      "cell_type": "code",
      "source": [
        "#Factorial of a number.\n",
        "#eg: Factorial of 5, that is, 5*4*3*2*1.\n",
        "num = int(input('Enter the value :'))\n",
        "fact = 1 #factorial of zero and one are one.\n",
        "if num == 0:\n",
        "  print(\"factorial of 0 is 1\")\n",
        "else:\n",
        "  for i in range(1,num+1):\n",
        "    #print(i)\n",
        "    fact = fact*i\n",
        "  print('Factorial of',num,'is',fact)"
      ],
      "metadata": {
        "colab": {
          "base_uri": "https://localhost:8080/"
        },
        "id": "lnaLi2x1Ngje",
        "outputId": "8009e594-3b3f-4b83-b4ff-45461f514483"
      },
      "execution_count": 14,
      "outputs": [
        {
          "output_type": "stream",
          "name": "stdout",
          "text": [
            "Enter the value :5\n",
            "Factorial of 5 is 120\n"
          ]
        }
      ]
    },
    {
      "cell_type": "markdown",
      "source": [
        "#Question 4:"
      ],
      "metadata": {
        "id": "YZQXm0FGNlHV"
      }
    },
    {
      "cell_type": "code",
      "source": [
        "#Created input for num_1 and num_2.\n",
        "num_1 = int(input('Enter the vale of num_1:'))\n",
        "num_2 = int(input('Enter the value of num_2:'))\n",
        "#Created a range between num_1 to num_2\n",
        "range1 = range(num_1, num_2) \n",
        "#Calculated the sum of numbers between the range.\n",
        "sum1 = sum(range1) \n",
        "print('The sum of numbers between range',num_1,'and',num_2, 'is',sum1)"
      ],
      "metadata": {
        "colab": {
          "base_uri": "https://localhost:8080/"
        },
        "id": "JLkKpGnXNl8I",
        "outputId": "9232b152-9ed4-4ab8-c139-29bc4a320fc6"
      },
      "execution_count": 18,
      "outputs": [
        {
          "output_type": "stream",
          "name": "stdout",
          "text": [
            "Enter the vale of num_1:5\n",
            "Enter the value of num_2:9\n",
            "The sum of numbers between range 5 and 9 is 26\n"
          ]
        }
      ]
    },
    {
      "cell_type": "markdown",
      "source": [
        "#Question 5:"
      ],
      "metadata": {
        "id": "sAS49O3rNqjR"
      }
    },
    {
      "cell_type": "code",
      "source": [
        "#created a list of languages\n",
        "languages= ['marathi','bangla','urdu','bangla','odia','urdu','kannada','bangla','tamil','kannada','marathi']"
      ],
      "metadata": {
        "id": "ABRkn4J9Nrcl"
      },
      "execution_count": 16,
      "outputs": []
    },
    {
      "cell_type": "code",
      "source": [
        "#Deleted urdu from the list and created a new list.\n",
        "list_x = [x for x in languages if x !='urdu']\n",
        "print(list_x)\n"
      ],
      "metadata": {
        "colab": {
          "base_uri": "https://localhost:8080/"
        },
        "id": "bxNVilhsEqgA",
        "outputId": "7e8bea1c-297c-4814-dc61-fbf6cfb06c28"
      },
      "execution_count": 17,
      "outputs": [
        {
          "output_type": "stream",
          "name": "stdout",
          "text": [
            "['marathi', 'bangla', 'bangla', 'odia', 'kannada', 'bangla', 'tamil', 'kannada', 'marathi']\n"
          ]
        }
      ]
    },
    {
      "cell_type": "markdown",
      "source": [
        "#Question 6:"
      ],
      "metadata": {
        "id": "YNT10FW4YjcB"
      }
    },
    {
      "cell_type": "code",
      "source": [
        "#Created a tuple\n",
        "num = (56,2,35,41,43,48,32,56,71,55,68)\n",
        "#Created a list that contains only even numbers from num.\n",
        "list_1 = [x for x in num if x%2 == 0]\n",
        "print(list_1)\n",
        "#Created a list that contains only odd numbers from num.\n",
        "list_2 = [x for x in num if x%2 != 0]\n",
        "print(list_2)\n",
        "\n",
        "  "
      ],
      "metadata": {
        "colab": {
          "base_uri": "https://localhost:8080/"
        },
        "id": "UUfgiX70YkOZ",
        "outputId": "2844522a-7789-48d8-c3e9-548fe8aebf93"
      },
      "execution_count": 39,
      "outputs": [
        {
          "output_type": "stream",
          "name": "stdout",
          "text": [
            "[56, 2, 48, 32, 56, 68]\n",
            "[35, 41, 43, 71, 55]\n"
          ]
        }
      ]
    },
    {
      "cell_type": "markdown",
      "source": [
        "#Question 7:"
      ],
      "metadata": {
        "id": "-QD1LSlifmDq"
      }
    },
    {
      "cell_type": "code",
      "source": [
        "#Created a user defined function to check whether the number is an odd number or even number.\n",
        "def even_odd (x):\n",
        "  if x%2 == 0 :\n",
        "    print(x,'is even number')\n",
        "  else:\n",
        "    print(x, 'is odd number')\n"
      ],
      "metadata": {
        "id": "AyGYWdDOZQ9q"
      },
      "execution_count": 18,
      "outputs": []
    },
    {
      "cell_type": "code",
      "source": [
        "a = 24\n",
        "even_odd(a)"
      ],
      "metadata": {
        "colab": {
          "base_uri": "https://localhost:8080/"
        },
        "id": "kia6mi0LexyP",
        "outputId": "463ea8b5-82bc-4859-b811-f6de434321cb"
      },
      "execution_count": 21,
      "outputs": [
        {
          "output_type": "stream",
          "name": "stdout",
          "text": [
            "24 is even number\n"
          ]
        }
      ]
    }
  ]
}