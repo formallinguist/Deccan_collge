{
  "nbformat": 4,
  "nbformat_minor": 0,
  "metadata": {
    "colab": {
      "name": "Assignment_4.ipynb",
      "provenance": []
    },
    "kernelspec": {
      "name": "python3",
      "display_name": "Python 3"
    },
    "language_info": {
      "name": "python"
    }
  },
  "cells": [
    {
      "cell_type": "markdown",
      "source": [
        "#Question1:"
      ],
      "metadata": {
        "id": "upfpJgYynvu2"
      }
    },
    {
      "cell_type": "code",
      "execution_count": null,
      "metadata": {
        "id": "svLdvllOMu_L"
      },
      "outputs": [],
      "source": [
        "import re"
      ]
    },
    {
      "cell_type": "code",
      "source": [
        "# 1. Caret ^\n",
        "#Read a string from the user\n",
        "string = input('Enter the string: ')\n",
        "result = re.search ('^the',string)\n",
        "\n",
        "if result:\n",
        "  print('it starts with \"the\"')\n",
        "else:\n",
        "  print('it does not start with \"the\"')"
      ],
      "metadata": {
        "colab": {
          "base_uri": "https://localhost:8080/"
        },
        "id": "bhNJBWWOM65_",
        "outputId": "c4fb3222-b94c-4024-ad83-57b1c5475eae"
      },
      "execution_count": null,
      "outputs": [
        {
          "output_type": "stream",
          "name": "stdout",
          "text": [
            "Enter the string: the boy\n",
            "it starts with \"the\"\n"
          ]
        }
      ]
    },
    {
      "cell_type": "code",
      "source": [
        "# 2.Dollar $\n",
        "string = input('Enter the string: ')\n",
        "result = re.search ('the$',string)\n",
        "\n",
        "if result:\n",
        "  print('it ends with \"the\"')\n",
        "else:\n",
        "  print('it does not end with \"the\"')"
      ],
      "metadata": {
        "colab": {
          "base_uri": "https://localhost:8080/"
        },
        "id": "yzomz74qNPB3",
        "outputId": "520c1eea-7787-4ab6-af63-c98a67c85379"
      },
      "execution_count": null,
      "outputs": [
        {
          "output_type": "stream",
          "name": "stdout",
          "text": [
            "Enter the string: gothe\n",
            "it ends with \"the\"\n"
          ]
        }
      ]
    },
    {
      "cell_type": "code",
      "source": [
        "# 3. ^....$, dollar and caret.\n",
        "string = input('Enter the string:')\n",
        "result = re.search('^ఆ..ర$', string)\n",
        "\n",
        "if result:\n",
        "    print('Match found', result)\n",
        "else:\n",
        "    print('NO Match found', result)"
      ],
      "metadata": {
        "colab": {
          "base_uri": "https://localhost:8080/"
        },
        "id": "4M1aL__GN09r",
        "outputId": "ec876cf8-06f1-46c8-f455-54a931161558"
      },
      "execution_count": null,
      "outputs": [
        {
          "output_type": "stream",
          "name": "stdout",
          "text": [
            "Enter the string:apple\n",
            "NO Match found None\n"
          ]
        }
      ]
    },
    {
      "cell_type": "code",
      "source": [
        "# 4.periods '....'\n",
        "\n",
        "string = input('Enter the string:')\n",
        "result = re.search('...', string)\n",
        "\n",
        "if result:\n",
        "    print('At least three characters present', result)\n",
        "else:\n",
        "    print('No three character string!')"
      ],
      "metadata": {
        "colab": {
          "base_uri": "https://localhost:8080/"
        },
        "id": "B20aZwWvPC3K",
        "outputId": "c32d2701-fd6a-421a-cba7-7e40701d5478"
      },
      "execution_count": null,
      "outputs": [
        {
          "output_type": "stream",
          "name": "stdout",
          "text": [
            "Enter the string:greeen\n",
            "At least three characters present <re.Match object; span=(0, 3), match='gre'>\n"
          ]
        }
      ]
    },
    {
      "cell_type": "code",
      "source": [
        "# 5.Square brackets, []\n",
        "\n",
        "string = input('Enter the string:')\n",
        "result = re.search('[123]', string)\n",
        "\n",
        "if result:\n",
        "    print('numbers found', result)\n",
        "else:\n",
        "    print('numbers NOT found')"
      ],
      "metadata": {
        "colab": {
          "base_uri": "https://localhost:8080/"
        },
        "id": "RzeWVICRPQAt",
        "outputId": "091c1b65-0199-4d8e-c278-b955d8cd970b"
      },
      "execution_count": null,
      "outputs": [
        {
          "output_type": "stream",
          "name": "stdout",
          "text": [
            "Enter the string:apple123\n",
            "numbers found <re.Match object; span=(5, 6), match='1'>\n"
          ]
        }
      ]
    },
    {
      "cell_type": "code",
      "source": [
        "\n",
        "# 6.curly braces,{}\n",
        "import re\n",
        "\n",
        "string = input('Enter the string:')\n",
        "result = re.search('a{2,3}', string)\n",
        "\n",
        "if result:\n",
        "    print('Match found', result)\n",
        "else:\n",
        "    print('No Match found')"
      ],
      "metadata": {
        "colab": {
          "base_uri": "https://localhost:8080/"
        },
        "id": "GmJeStRlPtuN",
        "outputId": "3d445ba9-32c0-46a0-a50c-fe6cc9c8d57b"
      },
      "execution_count": null,
      "outputs": [
        {
          "output_type": "stream",
          "name": "stdout",
          "text": [
            "Enter the string:graan\n",
            "Match found <re.Match object; span=(2, 4), match='aa'>\n"
          ]
        }
      ]
    },
    {
      "cell_type": "code",
      "source": [
        "# 7.or operator\n",
        "import re\n",
        "\n",
        "string = input('Enter the string:')\n",
        "result = re.search('a|b', string)\n",
        "\n",
        "if result:\n",
        "    print('Match found', result)\n",
        "else:\n",
        "    print('No Match found')"
      ],
      "metadata": {
        "colab": {
          "base_uri": "https://localhost:8080/"
        },
        "id": "WWtv4oCTQPqZ",
        "outputId": "bed41465-9dea-4a63-8d23-371d73a08a48"
      },
      "execution_count": null,
      "outputs": [
        {
          "output_type": "stream",
          "name": "stdout",
          "text": [
            "Enter the string:alabny\n",
            "Match found <re.Match object; span=(0, 1), match='a'>\n"
          ]
        }
      ]
    },
    {
      "cell_type": "code",
      "source": [
        "# 8.\\A check the presence as start\n",
        "import re\n",
        "\n",
        "string = input('Enter the string:')\n",
        "result = re.search('\\Athe', string)\n",
        "\n",
        "if result:\n",
        "    print('Match found', result)\n",
        "else:\n",
        "    print('No Match found')"
      ],
      "metadata": {
        "colab": {
          "base_uri": "https://localhost:8080/"
        },
        "id": "5mf_xHXkQd4u",
        "outputId": "4f519fe4-22c8-4e9f-959a-b5850cc53c43"
      },
      "execution_count": null,
      "outputs": [
        {
          "output_type": "stream",
          "name": "stdout",
          "text": [
            "Enter the string:the boy\n",
            "Match found <re.Match object; span=(0, 3), match='the'>\n"
          ]
        }
      ]
    },
    {
      "cell_type": "code",
      "source": [
        "# 9.\\Z check the end of the string.\n",
        "string = input('Enter the string:')\n",
        "result = re.search('e\\Z', string)\n",
        "\n",
        "if result:\n",
        "    print('Match found', result)\n",
        "else:\n",
        "    print('No Match found')\n"
      ],
      "metadata": {
        "colab": {
          "base_uri": "https://localhost:8080/"
        },
        "id": "ZCMCz6f9Ro_E",
        "outputId": "c3c883db-70bc-4060-94be-eb83da9b0778"
      },
      "execution_count": null,
      "outputs": [
        {
          "output_type": "stream",
          "name": "stdout",
          "text": [
            "Enter the string:cool\n",
            "No Match found\n"
          ]
        }
      ]
    },
    {
      "cell_type": "code",
      "source": [
        "# 10.\\d check the presence of digits\n",
        "import re\n",
        "\n",
        "string = input('Enter the string:')\n",
        "result = re.search('\\d', string)\n",
        "\n",
        "if result:\n",
        "    print('Match found', result)\n",
        "else:\n",
        "    print('No Match found')"
      ],
      "metadata": {
        "colab": {
          "base_uri": "https://localhost:8080/"
        },
        "id": "YlyntY6UQyBR",
        "outputId": "df91b306-b19b-42cc-ad65-9d3f3944af6a"
      },
      "execution_count": null,
      "outputs": [
        {
          "output_type": "stream",
          "name": "stdout",
          "text": [
            "Enter the string:apple123\n",
            "Match found <re.Match object; span=(5, 6), match='1'>\n"
          ]
        }
      ]
    },
    {
      "cell_type": "markdown",
      "source": [
        "#Question2"
      ],
      "metadata": {
        "id": "BPky77dYn1XS"
      }
    },
    {
      "cell_type": "code",
      "source": [
        "import nltk"
      ],
      "metadata": {
        "id": "wtl08UVwCunu"
      },
      "execution_count": 1,
      "outputs": []
    },
    {
      "cell_type": "code",
      "source": [
        "nltk.download('punkt')"
      ],
      "metadata": {
        "colab": {
          "base_uri": "https://localhost:8080/"
        },
        "id": "ttwKA4exEXjY",
        "outputId": "7605e366-0557-4b36-ed2d-f299b3aa110e"
      },
      "execution_count": 2,
      "outputs": [
        {
          "output_type": "stream",
          "name": "stderr",
          "text": [
            "[nltk_data] Downloading package punkt to /root/nltk_data...\n",
            "[nltk_data]   Unzipping tokenizers/punkt.zip.\n"
          ]
        },
        {
          "output_type": "execute_result",
          "data": {
            "text/plain": [
              "True"
            ]
          },
          "metadata": {},
          "execution_count": 2
        }
      ]
    },
    {
      "cell_type": "code",
      "source": [
        "#word_tokenize\n",
        "from nltk.tokenize import word_tokenize"
      ],
      "metadata": {
        "id": "r_GlSty_DKe3"
      },
      "execution_count": 16,
      "outputs": []
    },
    {
      "cell_type": "code",
      "source": [
        "string = input('''Enter the string:''')"
      ],
      "metadata": {
        "colab": {
          "base_uri": "https://localhost:8080/"
        },
        "id": "Zz8dOdaeRnLK",
        "outputId": "db9c74b5-d3c7-49f5-a3e0-1fe3db7b30c6"
      },
      "execution_count": 17,
      "outputs": [
        {
          "name": "stdout",
          "output_type": "stream",
          "text": [
            "Enter the string:Apples grown from seed tend to be very different from those of their parents, and the resultant fruit frequently lacks desired characteristics. Generally, apple cultivars are propagated by clonal grafting onto rootstocks. Apple trees grown without rootstocks tend to be larger and much slower to fruit after planting. Rootstocks are used to control the speed of growth and the size of the resulting tree, allowing for easier harvesting\n"
          ]
        }
      ]
    },
    {
      "cell_type": "code",
      "source": [
        "string_word = word_tokenize(string)"
      ],
      "metadata": {
        "id": "0KGOkuIlD1bf"
      },
      "execution_count": 18,
      "outputs": []
    },
    {
      "cell_type": "code",
      "source": [
        "print(string_word)"
      ],
      "metadata": {
        "colab": {
          "base_uri": "https://localhost:8080/"
        },
        "id": "dej5rZopEh7l",
        "outputId": "722aba66-ba8a-4f85-ea9d-d8b2eb0764d4"
      },
      "execution_count": 19,
      "outputs": [
        {
          "output_type": "stream",
          "name": "stdout",
          "text": [
            "['Apples', 'grown', 'from', 'seed', 'tend', 'to', 'be', 'very', 'different', 'from', 'those', 'of', 'their', 'parents', ',', 'and', 'the', 'resultant', 'fruit', 'frequently', 'lacks', 'desired', 'characteristics', '.', 'Generally', ',', 'apple', 'cultivars', 'are', 'propagated', 'by', 'clonal', 'grafting', 'onto', 'rootstocks', '.', 'Apple', 'trees', 'grown', 'without', 'rootstocks', 'tend', 'to', 'be', 'larger', 'and', 'much', 'slower', 'to', 'fruit', 'after', 'planting', '.', 'Rootstocks', 'are', 'used', 'to', 'control', 'the', 'speed', 'of', 'growth', 'and', 'the', 'size', 'of', 'the', 'resulting', 'tree', ',', 'allowing', 'for', 'easier', 'harvesting']\n"
          ]
        }
      ]
    },
    {
      "cell_type": "code",
      "source": [
        "for word in string_word:\n",
        "  print(word)"
      ],
      "metadata": {
        "colab": {
          "base_uri": "https://localhost:8080/"
        },
        "id": "3EpH-XX7bKMa",
        "outputId": "1c289079-31e6-4016-cc40-b05cabbd4606"
      },
      "execution_count": 20,
      "outputs": [
        {
          "output_type": "stream",
          "name": "stdout",
          "text": [
            "Apples\n",
            "grown\n",
            "from\n",
            "seed\n",
            "tend\n",
            "to\n",
            "be\n",
            "very\n",
            "different\n",
            "from\n",
            "those\n",
            "of\n",
            "their\n",
            "parents\n",
            ",\n",
            "and\n",
            "the\n",
            "resultant\n",
            "fruit\n",
            "frequently\n",
            "lacks\n",
            "desired\n",
            "characteristics\n",
            ".\n",
            "Generally\n",
            ",\n",
            "apple\n",
            "cultivars\n",
            "are\n",
            "propagated\n",
            "by\n",
            "clonal\n",
            "grafting\n",
            "onto\n",
            "rootstocks\n",
            ".\n",
            "Apple\n",
            "trees\n",
            "grown\n",
            "without\n",
            "rootstocks\n",
            "tend\n",
            "to\n",
            "be\n",
            "larger\n",
            "and\n",
            "much\n",
            "slower\n",
            "to\n",
            "fruit\n",
            "after\n",
            "planting\n",
            ".\n",
            "Rootstocks\n",
            "are\n",
            "used\n",
            "to\n",
            "control\n",
            "the\n",
            "speed\n",
            "of\n",
            "growth\n",
            "and\n",
            "the\n",
            "size\n",
            "of\n",
            "the\n",
            "resulting\n",
            "tree\n",
            ",\n",
            "allowing\n",
            "for\n",
            "easier\n",
            "harvesting\n"
          ]
        }
      ]
    },
    {
      "cell_type": "code",
      "source": [
        "#sentence tokenization\n",
        "from nltk.tokenize import sent_tokenize"
      ],
      "metadata": {
        "id": "2LkfGtQqEo4O"
      },
      "execution_count": 21,
      "outputs": []
    },
    {
      "cell_type": "code",
      "source": [
        "string_sent = sent_tokenize(string)"
      ],
      "metadata": {
        "id": "W-maIXt1Evnc"
      },
      "execution_count": 22,
      "outputs": []
    },
    {
      "cell_type": "code",
      "source": [
        "print(string_sent)"
      ],
      "metadata": {
        "colab": {
          "base_uri": "https://localhost:8080/"
        },
        "id": "dU_3LRjtE3uo",
        "outputId": "6cc1f8a5-be6b-4b25-c982-986da93bff9d"
      },
      "execution_count": 23,
      "outputs": [
        {
          "output_type": "stream",
          "name": "stdout",
          "text": [
            "['Apples grown from seed tend to be very different from those of their parents, and the resultant fruit frequently lacks desired characteristics.', 'Generally, apple cultivars are propagated by clonal grafting onto rootstocks.', 'Apple trees grown without rootstocks tend to be larger and much slower to fruit after planting.', 'Rootstocks are used to control the speed of growth and the size of the resulting tree, allowing for easier harvesting']\n"
          ]
        }
      ]
    },
    {
      "cell_type": "code",
      "source": [
        "for sent in string_sent:\n",
        "  print(sent)"
      ],
      "metadata": {
        "colab": {
          "base_uri": "https://localhost:8080/"
        },
        "id": "V9wHzP30a9tT",
        "outputId": "743377ef-9db2-4055-cd2a-d8fd64979952"
      },
      "execution_count": 24,
      "outputs": [
        {
          "output_type": "stream",
          "name": "stdout",
          "text": [
            "Apples grown from seed tend to be very different from those of their parents, and the resultant fruit frequently lacks desired characteristics.\n",
            "Generally, apple cultivars are propagated by clonal grafting onto rootstocks.\n",
            "Apple trees grown without rootstocks tend to be larger and much slower to fruit after planting.\n",
            "Rootstocks are used to control the speed of growth and the size of the resulting tree, allowing for easier harvesting\n"
          ]
        }
      ]
    },
    {
      "cell_type": "code",
      "source": [
        "#space tokenizer\n",
        "from nltk.tokenize import SpaceTokenizer"
      ],
      "metadata": {
        "id": "8tb4drGFbH0u"
      },
      "execution_count": 25,
      "outputs": []
    },
    {
      "cell_type": "code",
      "source": [
        "string_space = SpaceTokenizer()"
      ],
      "metadata": {
        "id": "_aWa3KkYbrwn"
      },
      "execution_count": 26,
      "outputs": []
    },
    {
      "cell_type": "code",
      "source": [
        "string_space.tokenize(string)"
      ],
      "metadata": {
        "colab": {
          "base_uri": "https://localhost:8080/"
        },
        "id": "S-QmQGNOb8YO",
        "outputId": "68815385-c5fb-4dbd-9bbe-8f50579b09cc"
      },
      "execution_count": 27,
      "outputs": [
        {
          "output_type": "execute_result",
          "data": {
            "text/plain": [
              "['Apples',\n",
              " 'grown',\n",
              " 'from',\n",
              " 'seed',\n",
              " 'tend',\n",
              " 'to',\n",
              " 'be',\n",
              " 'very',\n",
              " 'different',\n",
              " 'from',\n",
              " 'those',\n",
              " 'of',\n",
              " 'their',\n",
              " 'parents,',\n",
              " 'and',\n",
              " 'the',\n",
              " 'resultant',\n",
              " 'fruit',\n",
              " 'frequently',\n",
              " 'lacks',\n",
              " 'desired',\n",
              " 'characteristics.',\n",
              " 'Generally,',\n",
              " 'apple',\n",
              " 'cultivars',\n",
              " 'are',\n",
              " 'propagated',\n",
              " 'by',\n",
              " 'clonal',\n",
              " 'grafting',\n",
              " 'onto',\n",
              " 'rootstocks.',\n",
              " 'Apple',\n",
              " 'trees',\n",
              " 'grown',\n",
              " 'without',\n",
              " 'rootstocks',\n",
              " 'tend',\n",
              " 'to',\n",
              " 'be',\n",
              " 'larger',\n",
              " 'and',\n",
              " 'much',\n",
              " 'slower',\n",
              " 'to',\n",
              " 'fruit',\n",
              " 'after',\n",
              " 'planting.',\n",
              " 'Rootstocks',\n",
              " 'are',\n",
              " 'used',\n",
              " 'to',\n",
              " 'control',\n",
              " 'the',\n",
              " 'speed',\n",
              " 'of',\n",
              " 'growth',\n",
              " 'and',\n",
              " 'the',\n",
              " 'size',\n",
              " 'of',\n",
              " 'the',\n",
              " 'resulting',\n",
              " 'tree,',\n",
              " 'allowing',\n",
              " 'for',\n",
              " 'easier',\n",
              " 'harvesting']"
            ]
          },
          "metadata": {},
          "execution_count": 27
        }
      ]
    },
    {
      "cell_type": "code",
      "source": [
        "#Line tokenizer\n",
        "from nltk.tokenize import LineTokenizer"
      ],
      "metadata": {
        "id": "LDNW9hgGcTHj"
      },
      "execution_count": 28,
      "outputs": []
    },
    {
      "cell_type": "code",
      "source": [
        "string_line = LineTokenizer()"
      ],
      "metadata": {
        "id": "sp4VaQD1cftP"
      },
      "execution_count": 29,
      "outputs": []
    },
    {
      "cell_type": "code",
      "source": [
        "string_line.tokenize(string)"
      ],
      "metadata": {
        "colab": {
          "base_uri": "https://localhost:8080/"
        },
        "id": "tJfosFgicmgv",
        "outputId": "bfde4d81-ce28-484a-b406-086d93f2a16b"
      },
      "execution_count": 30,
      "outputs": [
        {
          "output_type": "execute_result",
          "data": {
            "text/plain": [
              "['Apples grown from seed tend to be very different from those of their parents, and the resultant fruit frequently lacks desired characteristics. Generally, apple cultivars are propagated by clonal grafting onto rootstocks. Apple trees grown without rootstocks tend to be larger and much slower to fruit after planting. Rootstocks are used to control the speed of growth and the size of the resulting tree, allowing for easier harvesting']"
            ]
          },
          "metadata": {},
          "execution_count": 30
        }
      ]
    },
    {
      "cell_type": "code",
      "source": [
        "#Tab tokenizer.\n",
        "from nltk.tokenize import TabTokenizer"
      ],
      "metadata": {
        "id": "5e5srNu3cw4O"
      },
      "execution_count": 31,
      "outputs": []
    },
    {
      "cell_type": "code",
      "source": [
        "string_tab  = TabTokenizer()"
      ],
      "metadata": {
        "id": "tATWeakQc35F"
      },
      "execution_count": 32,
      "outputs": []
    },
    {
      "cell_type": "code",
      "source": [
        "string_tab.tokenize(string)"
      ],
      "metadata": {
        "colab": {
          "base_uri": "https://localhost:8080/"
        },
        "id": "39PFfdm1c6EE",
        "outputId": "824ca2e1-bb9d-4a3e-daab-448d81a7c63a"
      },
      "execution_count": 33,
      "outputs": [
        {
          "output_type": "execute_result",
          "data": {
            "text/plain": [
              "['Apples grown from seed tend to be very different from those of their parents, and the resultant fruit frequently lacks desired characteristics. Generally, apple cultivars are propagated by clonal grafting onto rootstocks. Apple trees grown without rootstocks tend to be larger and much slower to fruit after planting. Rootstocks are used to control the speed of growth and the size of the resulting tree, allowing for easier harvesting']"
            ]
          },
          "metadata": {},
          "execution_count": 33
        }
      ]
    },
    {
      "cell_type": "markdown",
      "source": [
        "#Question 3"
      ],
      "metadata": {
        "id": "Zi8MHNz3dlJm"
      }
    },
    {
      "cell_type": "code",
      "source": [
        "import urllib"
      ],
      "metadata": {
        "id": "7y-nPug4dofv"
      },
      "execution_count": 9,
      "outputs": []
    },
    {
      "cell_type": "code",
      "source": [
        "data = urllib.request.urlopen('https://en.wikipedia.org/wiki/Tiger')\n",
        "html = data.read()"
      ],
      "metadata": {
        "id": "xTiGblHqduIc"
      },
      "execution_count": 56,
      "outputs": []
    },
    {
      "cell_type": "code",
      "source": [
        "from bs4 import BeautifulSoup"
      ],
      "metadata": {
        "id": "hT9WF2qhd65l"
      },
      "execution_count": 11,
      "outputs": []
    },
    {
      "cell_type": "code",
      "source": [
        "soup = BeautifulSoup(html, 'html')"
      ],
      "metadata": {
        "id": "iq0VB6PJd8dO"
      },
      "execution_count": 12,
      "outputs": []
    },
    {
      "cell_type": "code",
      "source": [
        "text = soup.get_text()"
      ],
      "metadata": {
        "id": "TVqsMW1YeCEF"
      },
      "execution_count": 13,
      "outputs": []
    },
    {
      "cell_type": "code",
      "source": [
        "tokens = word_tokenize(text)"
      ],
      "metadata": {
        "id": "0PoyI_UJeJeg"
      },
      "execution_count": 34,
      "outputs": []
    },
    {
      "cell_type": "code",
      "source": [
        "#Graph of the top 10 elements/words form the data\n",
        "from nltk import FreqDist\n",
        "freq = FreqDist(tokens)\n",
        "freq.plot(10, cumulative=False)"
      ],
      "metadata": {
        "colab": {
          "base_uri": "https://localhost:8080/",
          "height": 305
        },
        "id": "3eTXEyXLeUlr",
        "outputId": "03123a90-2932-445e-afe5-c14783300845"
      },
      "execution_count": 36,
      "outputs": [
        {
          "output_type": "display_data",
          "data": {
            "text/plain": [
              "<Figure size 432x288 with 1 Axes>"
            ],
            "image/png": "[encoded data removed]"
          },
          "metadata": {
            "needs_background": "light"
          }
        },
        {
          "output_type": "execute_result",
          "data": {
            "text/plain": [
              "<matplotlib.axes._subplots.AxesSubplot at 0x7f27348396d0>"
            ]
          },
          "metadata": {},
          "execution_count": 36
        }
      ]
    },
    {
      "cell_type": "code",
      "source": [
        "import string\n",
        "string.punctuation"
      ],
      "metadata": {
        "colab": {
          "base_uri": "https://localhost:8080/",
          "height": 35
        },
        "id": "fc0FmpfpeZYg",
        "outputId": "af0742ae-be6d-4bfd-a434-c929245e1ba5"
      },
      "execution_count": 37,
      "outputs": [
        {
          "output_type": "execute_result",
          "data": {
            "text/plain": [
              "'!\"#$%&\\'()*+,-./:;<=>?@[\\\\]^_`{|}~'"
            ],
            "application/vnd.google.colaboratory.intrinsic+json": {
              "type": "string"
            }
          },
          "metadata": {},
          "execution_count": 37
        }
      ]
    },
    {
      "cell_type": "code",
      "source": [
        "#Removing special characters\n",
        "tokens1 = [x for x in tokens if x not in string.punctuation]"
      ],
      "metadata": {
        "id": "QfERGM66ebIX"
      },
      "execution_count": 52,
      "outputs": []
    },
    {
      "cell_type": "code",
      "source": [
        "# graph of the top 15 words from the data after removing the special characters.\n",
        "from nltk import FreqDist\n",
        "freq = FreqDist(tokens1)\n",
        "freq.plot(15, cumulative=False)"
      ],
      "metadata": {
        "colab": {
          "base_uri": "https://localhost:8080/",
          "height": 380
        },
        "id": "_wSj4Si_tyOx",
        "outputId": "438d3d7d-b95e-4d08-cb81-73d8da1ad7f1"
      },
      "execution_count": 41,
      "outputs": [
        {
          "output_type": "display_data",
          "data": {
            "text/plain": [
              "<Figure size 432x288 with 1 Axes>"
            ],
            "image/png": "[encoded data removed]"
          },
          "metadata": {
            "needs_background": "light"
          }
        },
        {
          "output_type": "execute_result",
          "data": {
            "text/plain": [
              "<matplotlib.axes._subplots.AxesSubplot at 0x7f273462c8d0>"
            ]
          },
          "metadata": {},
          "execution_count": 41
        }
      ]
    },
    {
      "cell_type": "code",
      "source": [
        "from nltk.corpus import stopwords"
      ],
      "metadata": {
        "id": "X0DK0QXsbTUx"
      },
      "execution_count": 44,
      "outputs": []
    },
    {
      "cell_type": "code",
      "source": [
        "nltk.download('stopwords')"
      ],
      "metadata": {
        "colab": {
          "base_uri": "https://localhost:8080/"
        },
        "id": "6yO5Z2Y_Yszp",
        "outputId": "9d5a49eb-ff03-46e2-cc0c-b95e57bd0e2b"
      },
      "execution_count": 45,
      "outputs": [
        {
          "output_type": "stream",
          "name": "stderr",
          "text": [
            "[nltk_data] Downloading package stopwords to /root/nltk_data...\n",
            "[nltk_data]   Unzipping corpora/stopwords.zip.\n"
          ]
        },
        {
          "output_type": "execute_result",
          "data": {
            "text/plain": [
              "True"
            ]
          },
          "metadata": {},
          "execution_count": 45
        }
      ]
    },
    {
      "cell_type": "code",
      "source": [
        "#converting the data to lower case\n",
        "tokens2 = [x.lower() for x in tokens1]"
      ],
      "metadata": {
        "id": "XxPKL0Thxseg"
      },
      "execution_count": 46,
      "outputs": []
    },
    {
      "cell_type": "code",
      "source": [
        "#Removing the stop words\n",
        "tokens3 = [ x for x in tokens2 if x not in stopwords.words('english')]"
      ],
      "metadata": {
        "id": "IBVDmhrPzJ-3"
      },
      "execution_count": 53,
      "outputs": []
    },
    {
      "cell_type": "code",
      "source": [
        "from nltk import FreqDist\n",
        "freq = FreqDist(tokens3)\n",
        "freq.plot(20, cumulative=False)"
      ],
      "metadata": {
        "colab": {
          "base_uri": "https://localhost:8080/",
          "height": 379
        },
        "id": "7tBg3MqwefBF",
        "outputId": "3f5055d3-3105-4a72-d799-5d580b1a999c"
      },
      "execution_count": 48,
      "outputs": [
        {
          "output_type": "display_data",
          "data": {
            "text/plain": [
              "<Figure size 432x288 with 1 Axes>"
            ],
            "image/png": "[encoded data removed]"
          },
          "metadata": {
            "needs_background": "light"
          }
        },
        {
          "output_type": "execute_result",
          "data": {
            "text/plain": [
              "<matplotlib.axes._subplots.AxesSubplot at 0x7f27345b4990>"
            ]
          },
          "metadata": {},
          "execution_count": 48
        }
      ]
    },
    {
      "cell_type": "code",
      "source": [
        "freq = FreqDist(tokens3)"
      ],
      "metadata": {
        "id": "2EZZkRXfe7Ss"
      },
      "execution_count": 49,
      "outputs": []
    },
    {
      "cell_type": "code",
      "source": [
        "#Top three frequently occuring words\n",
        "freq.most_common(3)"
      ],
      "metadata": {
        "colab": {
          "base_uri": "https://localhost:8080/"
        },
        "id": "GuDGIOf_fJoQ",
        "outputId": "e184e560-188b-48a1-dec4-25890e247f32"
      },
      "execution_count": 54,
      "outputs": [
        {
          "output_type": "execute_result",
          "data": {
            "text/plain": [
              "[(\"''\", 871), ('tiger', 371), ('``', 228)]"
            ]
          },
          "metadata": {},
          "execution_count": 54
        }
      ]
    },
    {
      "cell_type": "code",
      "source": [
        "from collections import Counter\n",
        "dict(Counter(tokens2))"
      ],
      "metadata": {
        "colab": {
          "base_uri": "https://localhost:8080/"
        },
        "id": "X5ZgqMiZt6yX",
        "outputId": "8835362f-e4ae-4a4b-912a-f10dfbd867cd"
      },
      "execution_count": 51,
      "outputs": [
        {
          "output_type": "execute_result",
          "data": {
            "text/plain": [
              "{'tiger': 371,\n",
              " 'wikipedia': 7,\n",
              " 'document.documentelement.classname=': 1,\n",
              " \"''\": 871,\n",
              " 'client-js': 1,\n",
              " 'rlconf=': 1,\n",
              " '``': 228,\n",
              " 'wgbreakframes': 1,\n",
              " 'false': 12,\n",
              " 'wgseparatortransformtable': 1,\n",
              " 'wgdigittransformtable': 1,\n",
              " 'wgdefaultdateformat': 1,\n",
              " 'dmy': 3,\n",
              " 'wgmonthnames': 1,\n",
              " 'january': 11,\n",
              " 'february': 8,\n",
              " 'march': 13,\n",
              " 'april': 10,\n",
              " 'may': 25,\n",
              " 'june': 13,\n",
              " 'july': 9,\n",
              " 'august': 7,\n",
              " 'september': 9,\n",
              " 'october': 6,\n",
              " 'november': 5,\n",
              " 'december': 8,\n",
              " 'wgrequestid': 1,\n",
              " 'a28e8f31-42d1-423d-8bbf-f828e6219bb9': 1,\n",
              " 'wgcspnonce': 1,\n",
              " 'wgcanonicalnamespace': 1,\n",
              " 'wgcanonicalspecialpagename': 1,\n",
              " 'wgnamespacenumber': 1,\n",
              " ':0': 1,\n",
              " 'wgpagename': 1,\n",
              " 'wgtitle': 1,\n",
              " 'wgcurrevisionid': 1,\n",
              " ':1095723926': 2,\n",
              " 'wgrevisionid': 1,\n",
              " 'wgarticleid': 1,\n",
              " ':30075': 2,\n",
              " 'wgisarticle': 1,\n",
              " 'true': 11,\n",
              " 'wgisredirect': 1,\n",
              " 'wgaction': 1,\n",
              " 'view': 4,\n",
              " 'wgusername': 1,\n",
              " 'null': 1,\n",
              " 'wgusergroups': 1,\n",
              " 'wgcategories': 1,\n",
              " 'cs1': 7,\n",
              " 'long': 8,\n",
              " 'volume': 7,\n",
              " 'value': 12,\n",
              " 'latin-language': 2,\n",
              " 'sources': 4,\n",
              " 'la': 2,\n",
              " 'german-language': 2,\n",
              " 'de': 6,\n",
              " 'errors': 2,\n",
              " 'missing': 3,\n",
              " 'periodical': 1,\n",
              " 'articles': 14,\n",
              " 'with': 105,\n",
              " 'short': 6,\n",
              " 'description': 15,\n",
              " 'is': 102,\n",
              " 'different': 7,\n",
              " 'from': 114,\n",
              " 'wikidata': 5,\n",
              " 'indefinitely': 4,\n",
              " 'semi-protected': 2,\n",
              " 'pages': 2,\n",
              " 'move-protected': 2,\n",
              " 'good': 3,\n",
              " 'use': 12,\n",
              " 'dates': 2,\n",
              " '2021': 4,\n",
              " 'british': 7,\n",
              " 'english': 8,\n",
              " '2020': 4,\n",
              " \"'species\": 2,\n",
              " 'microformats': 1,\n",
              " 'all': 13,\n",
              " 'specifically': 4,\n",
              " 'marked': 4,\n",
              " 'weasel-worded': 4,\n",
              " 'phrases': 3,\n",
              " '2016': 17,\n",
              " 'containing': 3,\n",
              " 'chinese-language': 2,\n",
              " 'text': 3,\n",
              " 'taxonbars': 1,\n",
              " 'multiple': 4,\n",
              " 'manual': 2,\n",
              " 'items': 1,\n",
              " 'bnf': 2,\n",
              " 'identifiers': 8,\n",
              " 'gnd': 2,\n",
              " 'j9u': 2,\n",
              " 'lccn': 2,\n",
              " 'ndl': 2,\n",
              " 'nkc': 2,\n",
              " 'iucn': 13,\n",
              " 'red': 12,\n",
              " 'list': 10,\n",
              " 'endangered': 17,\n",
              " 'species': 45,\n",
              " 'apex': 3,\n",
              " 'predators': 7,\n",
              " 'big': 10,\n",
              " 'cats': 18,\n",
              " 'conservation-reliant': 1,\n",
              " 'edge': 1,\n",
              " 'extant': 2,\n",
              " 'pleistocene': 11,\n",
              " 'first': 15,\n",
              " 'appearances': 1,\n",
              " 'fauna': 5,\n",
              " 'of': 477,\n",
              " 'south': 16,\n",
              " 'asia': 34,\n",
              " 'southeast': 14,\n",
              " 'felids': 4,\n",
              " 'mammals': 14,\n",
              " 'described': 10,\n",
              " 'in': 423,\n",
              " '1758': 11,\n",
              " 'east': 8,\n",
              " 'national': 32,\n",
              " 'symbols': 10,\n",
              " 'india': 51,\n",
              " 'bangladesh': 6,\n",
              " 'malaysia': 7,\n",
              " 'singapore': 1,\n",
              " 'panthera': 65,\n",
              " 'by': 85,\n",
              " 'agricultural': 3,\n",
              " 'development': 3,\n",
              " 'deliberate': 2,\n",
              " 'extirpation': 2,\n",
              " 'efforts': 3,\n",
              " 'human': 14,\n",
              " 'consumption': 2,\n",
              " 'for': 76,\n",
              " 'medicinal': 3,\n",
              " 'or': 40,\n",
              " 'magical': 2,\n",
              " 'purposes': 1,\n",
              " 'logging': 2,\n",
              " 'urbanization': 1,\n",
              " 'taxa': 2,\n",
              " 'named': 2,\n",
              " 'carl': 3,\n",
              " 'linnaeus': 11,\n",
              " 'wgpagecontentlanguage': 1,\n",
              " 'en': 4,\n",
              " 'wgpagecontentmodel': 1,\n",
              " 'wikitext': 1,\n",
              " 'wgrelevantpagename': 1,\n",
              " 'wgrelevantarticleid': 1,\n",
              " 'wgisprobablyeditable': 1,\n",
              " 'wgrelevantpageisprobablyeditable': 1,\n",
              " 'wgrestrictionedit': 1,\n",
              " 'autoconfirmed': 1,\n",
              " 'wgrestrictionmove': 1,\n",
              " 'sysop': 1,\n",
              " 'wgflaggedrevsparams': 1,\n",
              " 'tags': 1,\n",
              " 'status': 13,\n",
              " 'levels': 1,\n",
              " ':1': 2,\n",
              " 'wgvisualeditor': 1,\n",
              " 'pagelanguagecode': 1,\n",
              " 'pagelanguagedir': 1,\n",
              " 'ltr': 1,\n",
              " 'pagevariantfallbacks': 1,\n",
              " 'wgmfdisplaywikibasedescriptions': 1,\n",
              " 'search': 3,\n",
              " 'nearby': 1,\n",
              " 'watchlist': 1,\n",
              " 'tagline': 1,\n",
              " 'wgwmeschemaeditattemptstepoversample': 1,\n",
              " 'wgwmepagelength': 1,\n",
              " ':100000': 1,\n",
              " 'wgnoticeproject': 1,\n",
              " 'wgmediavieweronclick': 1,\n",
              " 'wgmediaviewerenabledbydefault': 1,\n",
              " 'wgpopupsflags': 1,\n",
              " ':10': 1,\n",
              " 'wgulscurrentautonym': 1,\n",
              " 'wgeditsubmitbuttonlabelpublish': 1,\n",
              " 'wgcentralauthmobiledomain': 1,\n",
              " 'wgulsposition': 1,\n",
              " 'interlanguage': 1,\n",
              " 'wgulsiscompactlinksenabled': 1,\n",
              " 'wgwikibaseitemid': 1,\n",
              " 'q19939': 2,\n",
              " 'gehomepagesuggestededitsenabletopics': 1,\n",
              " 'wggetopicsmatchmodeenabled': 1,\n",
              " 'wggestructuredtaskrejectionreasontextinputenabled': 1,\n",
              " 'rlstate=': 1,\n",
              " 'ext.globalcssjs.user.styles': 1,\n",
              " 'ready': 13,\n",
              " 'site.styles': 1,\n",
              " 'user.styles': 1,\n",
              " 'ext.globalcssjs.user': 1,\n",
              " 'user': 1,\n",
              " 'user.options': 2,\n",
              " 'loading': 1,\n",
              " 'ext.cite.styles': 1,\n",
              " 'skins.vector.styles.legacy': 1,\n",
              " 'jquery.tablesorter.styles': 1,\n",
              " 'jquery.makecollapsible.styles': 1,\n",
              " 'ext.visualeditor.desktoparticletarget.noscript': 1,\n",
              " 'ext.wikimediabadges': 1,\n",
              " 'ext.uls.interlanguage': 1,\n",
              " 'wikibase.client.init': 1,\n",
              " 'rlpagemodules=': 1,\n",
              " 'ext.cite.ux-enhancements': 1,\n",
              " 'site': 3,\n",
              " 'mediawiki.page.ready': 1,\n",
              " 'jquery.tablesorter': 1,\n",
              " 'jquery.makecollapsible': 1,\n",
              " 'mediawiki.toc': 1,\n",
              " 'skins.vector.legacy.js': 1,\n",
              " 'mmv.head': 1,\n",
              " 'mmv.bootstrap.autostart': 1,\n",
              " 'ext.visualeditor.desktoparticletarget.init': 1,\n",
              " 'ext.visualeditor.targetloader': 1,\n",
              " 'ext.eventlogging': 1,\n",
              " 'ext.wikimediaevents': 1,\n",
              " 'ext.navigationtiming': 1,\n",
              " 'ext.cx.eventlogging.campaigns': 1,\n",
              " 'ext.quicksurveys.init': 1,\n",
              " 'ext.centralnotice.geoip': 1,\n",
              " 'ext.centralnotice.startup': 1,\n",
              " 'ext.gadget.referencetooltips': 1,\n",
              " 'ext.gadget.charinsert': 1,\n",
              " 'ext.gadget.extra-toolbar-buttons': 1,\n",
              " 'ext.gadget.reftoolbar': 1,\n",
              " 'ext.gadget.switcher': 1,\n",
              " 'ext.centralauth.centralautologin': 1,\n",
              " 'ext.popups': 1,\n",
              " 'ext.uls.compactlinks': 1,\n",
              " 'ext.uls.interface': 1,\n",
              " 'ext.growthexperiments.suggestededitsession': 1,\n",
              " 'rlq=window.rlq||': 3,\n",
              " '.push': 3,\n",
              " 'function': 4,\n",
              " 'mw.loader.implement': 1,\n",
              " '12s5i': 1,\n",
              " 'jquery': 1,\n",
              " 'require': 5,\n",
              " 'module': 1,\n",
              " 'mw.user.tokens.set': 1,\n",
              " 'patroltoken': 1,\n",
              " '+\\\\\\\\': 3,\n",
              " 'watchtoken': 1,\n",
              " 'csrftoken': 1,\n",
              " 'the': 786,\n",
              " 'free': 2,\n",
              " 'encyclopedia': 2,\n",
              " 'jump': 2,\n",
              " 'to': 259,\n",
              " 'navigation': 3,\n",
              " 'largest': 7,\n",
              " 'cat': 41,\n",
              " 'family': 14,\n",
              " '.mw-parser-output': 113,\n",
              " '.hatnote': 2,\n",
              " 'font-style': 3,\n",
              " 'italic': 1,\n",
              " 'div.hatnote': 1,\n",
              " 'padding-left:1.6em': 2,\n",
              " 'margin-bottom:0.5em': 2,\n",
              " 'i': 10,\n",
              " 'normal': 3,\n",
              " '.hatnote+link+.hatnote': 1,\n",
              " 'margin-top': 5,\n",
              " '-0.5em': 1,\n",
              " 'tigress': 8,\n",
              " 'redirects': 2,\n",
              " 'here': 2,\n",
              " 'other': 36,\n",
              " 'uses': 2,\n",
              " 'see': 8,\n",
              " 'disambiguation': 2,\n",
              " 'and': 476,\n",
              " 'tigertemporal': 1,\n",
              " 'range': 19,\n",
              " 'early': 13,\n",
              " '–': 17,\n",
              " 'present': 3,\n",
              " 'preꞓ': 1,\n",
              " 'ꞓ': 1,\n",
              " 'o': 5,\n",
              " 's': 2,\n",
              " 'd': 14,\n",
              " 'c': 24,\n",
              " 'p': 6,\n",
              " 't': 2,\n",
              " 'j': 28,\n",
              " 'k': 3,\n",
              " 'pg': 1,\n",
              " 'n': 2,\n",
              " '↓': 1,\n",
              " 'a': 292,\n",
              " 'bengal': 23,\n",
              " 'kanha': 3,\n",
              " 'reserve': 9,\n",
              " 'conservation': 58,\n",
              " '3.1': 2,\n",
              " '1': 26,\n",
              " 'cites': 5,\n",
              " 'appendix': 1,\n",
              " 'scientific': 6,\n",
              " 'classification': 6,\n",
              " 'kingdom': 3,\n",
              " 'animalia': 2,\n",
              " 'phylum': 2,\n",
              " 'chordata': 2,\n",
              " 'class': 3,\n",
              " 'mammalia': 4,\n",
              " 'order': 2,\n",
              " 'carnivora': 5,\n",
              " 'suborder': 4,\n",
              " 'feliformia': 1,\n",
              " 'felidae': 6,\n",
              " 'subfamily': 1,\n",
              " 'pantherinae': 1,\n",
              " 'genus': 3,\n",
              " 'p.': 123,\n",
              " 'tigris': 65,\n",
              " 'binomial': 1,\n",
              " 'name': 11,\n",
              " '2': 19,\n",
              " 'subspecies': 19,\n",
              " 't.': 42,\n",
              " 'sondaica': 7,\n",
              " '†p': 3,\n",
              " 'acutidens': 1,\n",
              " 'soloensis': 1,\n",
              " 'trinilensis': 2,\n",
              " \"'s\": 82,\n",
              " 'historical': 6,\n",
              " 'about': 24,\n",
              " '1850': 1,\n",
              " 'pale': 5,\n",
              " 'yellow': 5,\n",
              " 'excluding': 1,\n",
              " 'that': 49,\n",
              " 'caspian': 8,\n",
              " '2006': 11,\n",
              " 'green': 4,\n",
              " '3': 17,\n",
              " 'synonyms': 1,\n",
              " '4': 9,\n",
              " 'felis': 5,\n",
              " 'striatus': 2,\n",
              " 'severtzov': 1,\n",
              " '1858': 1,\n",
              " 'regalis': 1,\n",
              " 'gray': 5,\n",
              " '1867': 1,\n",
              " 'living': 8,\n",
              " 'member': 1,\n",
              " 'it': 61,\n",
              " 'most': 20,\n",
              " 'recognisable': 2,\n",
              " 'its': 35,\n",
              " 'dark': 5,\n",
              " 'vertical': 3,\n",
              " 'stripes': 19,\n",
              " 'on': 107,\n",
              " 'orange': 5,\n",
              " 'fur': 17,\n",
              " 'white': 26,\n",
              " 'underside': 2,\n",
              " 'an': 34,\n",
              " 'predator': 5,\n",
              " 'primarily': 1,\n",
              " 'preys': 1,\n",
              " 'ungulates': 3,\n",
              " 'such': 13,\n",
              " 'as': 75,\n",
              " 'deer': 5,\n",
              " 'wild': 44,\n",
              " 'boar': 3,\n",
              " 'territorial': 4,\n",
              " 'generally': 9,\n",
              " 'solitary': 2,\n",
              " 'but': 25,\n",
              " 'social': 5,\n",
              " 'requiring': 1,\n",
              " 'large': 21,\n",
              " 'contiguous': 2,\n",
              " 'areas': 11,\n",
              " 'habitat': 17,\n",
              " 'which': 20,\n",
              " 'support': 4,\n",
              " 'requirements': 1,\n",
              " 'prey': 44,\n",
              " 'rearing': 2,\n",
              " 'offspring': 2,\n",
              " 'cubs': 20,\n",
              " 'stay': 1,\n",
              " 'their': 52,\n",
              " 'mother': 11,\n",
              " 'two': 33,\n",
              " 'years': 22,\n",
              " 'then': 4,\n",
              " 'become': 3,\n",
              " 'independent': 4,\n",
              " 'leave': 1,\n",
              " 'home': 7,\n",
              " 'establish': 5,\n",
              " 'own': 6,\n",
              " 'was': 59,\n",
              " 'scientifically': 1,\n",
              " 'once': 2,\n",
              " 'ranged': 2,\n",
              " 'widely': 2,\n",
              " 'eastern': 11,\n",
              " 'anatolia': 1,\n",
              " 'region': 5,\n",
              " 'west': 5,\n",
              " 'amur': 10,\n",
              " 'river': 5,\n",
              " 'basin': 1,\n",
              " 'foothills': 1,\n",
              " 'himalayas': 4,\n",
              " 'bali': 11,\n",
              " 'sunda': 9,\n",
              " 'islands': 8,\n",
              " 'since': 13,\n",
              " '20th': 5,\n",
              " 'century': 12,\n",
              " 'populations': 35,\n",
              " 'have': 42,\n",
              " 'lost': 3,\n",
              " 'at': 36,\n",
              " 'least': 3,\n",
              " '93': 5,\n",
              " 'historic': 2,\n",
              " 'been': 35,\n",
              " 'extirpated': 2,\n",
              " 'western': 8,\n",
              " 'central': 7,\n",
              " 'java': 7,\n",
              " 'china': 26,\n",
              " 'today': 4,\n",
              " 'fragmented': 2,\n",
              " 'stretching': 1,\n",
              " 'siberian': 18,\n",
              " 'temperate': 3,\n",
              " 'forests': 21,\n",
              " 'subtropical': 2,\n",
              " 'tropical': 4,\n",
              " 'indian': 19,\n",
              " 'subcontinent': 3,\n",
              " 'indochina': 1,\n",
              " 'sumatra': 9,\n",
              " 'listed': 6,\n",
              " '2015': 21,\n",
              " 'global': 7,\n",
              " 'population': 29,\n",
              " 'estimated': 6,\n",
              " 'number': 8,\n",
              " 'between': 24,\n",
              " '3,062': 1,\n",
              " '3,948': 1,\n",
              " 'mature': 3,\n",
              " 'individuals': 11,\n",
              " 'small': 12,\n",
              " 'isolated': 3,\n",
              " 'pockets': 1,\n",
              " 'currently': 3,\n",
              " 'hosts': 1,\n",
              " 'major': 6,\n",
              " 'reasons': 2,\n",
              " 'decline': 4,\n",
              " 'are': 82,\n",
              " 'destruction': 2,\n",
              " 'fragmentation': 3,\n",
              " 'poaching': 8,\n",
              " 'tigers': 185,\n",
              " 'also': 24,\n",
              " 'victims': 1,\n",
              " 'human–wildlife': 1,\n",
              " 'conflict': 1,\n",
              " 'particularly': 3,\n",
              " 'countries': 6,\n",
              " 'high': 6,\n",
              " 'density': 2,\n",
              " 'among': 7,\n",
              " 'popular': 2,\n",
              " 'world': 28,\n",
              " 'charismatic': 2,\n",
              " 'megafauna': 2,\n",
              " 'featured': 2,\n",
              " 'prominently': 1,\n",
              " 'ancient': 7,\n",
              " 'mythology': 1,\n",
              " 'folklore': 2,\n",
              " 'cultures': 1,\n",
              " 'throughout': 1,\n",
              " 'continues': 1,\n",
              " 'be': 31,\n",
              " 'depicted': 4,\n",
              " 'modern': 4,\n",
              " 'films': 1,\n",
              " 'literature': 4,\n",
              " 'appearing': 1,\n",
              " 'many': 7,\n",
              " 'flags': 1,\n",
              " 'coats': 3,\n",
              " 'arms': 2,\n",
              " 'mascots': 1,\n",
              " 'sporting': 1,\n",
              " 'teams': 3,\n",
              " 'animal': 17,\n",
              " 'korea': 7,\n",
              " 'contents': 1,\n",
              " 'etymology': 4,\n",
              " 'taxonomy': 5,\n",
              " '2.1': 1,\n",
              " '2.2': 1,\n",
              " 'evolution': 8,\n",
              " '2.3': 1,\n",
              " 'hybrids': 5,\n",
              " 'size': 18,\n",
              " '3.2': 1,\n",
              " 'colour': 9,\n",
              " 'variations': 3,\n",
              " 'distribution': 8,\n",
              " '5': 12,\n",
              " 'behaviour': 7,\n",
              " 'ecology': 11,\n",
              " '5.1': 2,\n",
              " 'daily': 2,\n",
              " 'activities': 3,\n",
              " '5.2': 1,\n",
              " 'hunting': 17,\n",
              " 'diet': 2,\n",
              " '5.3': 1,\n",
              " 'enemies': 2,\n",
              " 'competitors': 3,\n",
              " '5.4': 1,\n",
              " 'reproduction': 2,\n",
              " 'life': 5,\n",
              " 'cycle': 2,\n",
              " '6': 13,\n",
              " '7': 17,\n",
              " 'relation': 2,\n",
              " 'humans': 10,\n",
              " '7.1': 1,\n",
              " '7.2': 1,\n",
              " 'body': 8,\n",
              " 'part': 6,\n",
              " '7.3': 2,\n",
              " 'man-eating': 4,\n",
              " '7.4': 1,\n",
              " 'captivity': 3,\n",
              " '8': 9,\n",
              " 'cultural': 4,\n",
              " 'depictions': 2,\n",
              " '8.1': 2,\n",
              " 'myth': 4,\n",
              " 'legend': 3,\n",
              " '8.2': 1,\n",
              " 'media': 6,\n",
              " '8.3': 1,\n",
              " 'heraldry': 5,\n",
              " 'emblems': 3,\n",
              " '9': 6,\n",
              " '10': 20,\n",
              " 'references': 2,\n",
              " '11': 15,\n",
              " 'further': 6,\n",
              " 'reading': 2,\n",
              " '12': 11,\n",
              " 'external': 2,\n",
              " 'links': 4,\n",
              " 'middle': 1,\n",
              " 'tigre': 3,\n",
              " 'old': 5,\n",
              " 'tigras': 1,\n",
              " 'derive': 1,\n",
              " 'french': 1,\n",
              " 'latin': 3,\n",
              " 'this': 29,\n",
              " 'borrowing': 2,\n",
              " 'classical': 1,\n",
              " 'greek': 3,\n",
              " 'τίγρις': 2,\n",
              " \"'tigris\": 1,\n",
              " 'foreign': 1,\n",
              " 'unknown': 3,\n",
              " 'origin': 8,\n",
              " 'meaning': 2,\n",
              " \"'tiger\": 2,\n",
              " 'persian': 1,\n",
              " 'word': 4,\n",
              " 'tigra': 1,\n",
              " \"'pointed\": 1,\n",
              " 'sharp': 2,\n",
              " 'avestan': 1,\n",
              " 'tigrhi': 1,\n",
              " \"'arrow\": 1,\n",
              " 'perhaps': 1,\n",
              " 'referring': 1,\n",
              " 'speed': 1,\n",
              " 'leap': 2,\n",
              " 'although': 8,\n",
              " 'these': 11,\n",
              " 'words': 1,\n",
              " 'not': 21,\n",
              " 'known': 8,\n",
              " 'any': 3,\n",
              " 'meanings': 1,\n",
              " 'associated': 4,\n",
              " 'generic': 1,\n",
              " 'derived': 1,\n",
              " 'πάνθηρ': 1,\n",
              " \"'panther\": 1,\n",
              " 'his': 12,\n",
              " 'work': 2,\n",
              " 'systema': 2,\n",
              " 'naturae': 1,\n",
              " 'gave': 1,\n",
              " '1929': 4,\n",
              " 'taxonomist': 1,\n",
              " 'reginald': 1,\n",
              " 'innes': 1,\n",
              " 'pocock': 6,\n",
              " 'subordinated': 1,\n",
              " 'under': 5,\n",
              " 'using': 10,\n",
              " 'phylogenetic': 2,\n",
              " 'relationship': 2,\n",
              " 'based': 14,\n",
              " 'driscoll': 4,\n",
              " 'et': 7,\n",
              " 'al': 2,\n",
              " '2009': 15,\n",
              " 'following': 4,\n",
              " 'descriptions': 2,\n",
              " 'several': 7,\n",
              " 'specimens': 4,\n",
              " 'were': 47,\n",
              " 'proposed': 5,\n",
              " 'validity': 1,\n",
              " 'questioned': 1,\n",
              " '1999': 14,\n",
              " 'putative': 2,\n",
              " '19th': 3,\n",
              " 'centuries': 3,\n",
              " 'distinguished': 2,\n",
              " 'basis': 3,\n",
              " 'length': 10,\n",
              " 'colouration': 3,\n",
              " 'striping': 2,\n",
              " 'patterns': 4,\n",
              " 'hence': 1,\n",
              " 'characteristics': 2,\n",
              " 'vary': 5,\n",
              " 'within': 10,\n",
              " 'morphologically': 2,\n",
              " 'regions': 3,\n",
              " 'little': 3,\n",
              " 'gene': 9,\n",
              " 'flow': 2,\n",
              " 'those': 4,\n",
              " 'considered': 9,\n",
              " 'possible': 1,\n",
              " 'during': 12,\n",
              " 'therefore': 1,\n",
              " 'recognize': 1,\n",
              " 'only': 14,\n",
              " 'valid': 1,\n",
              " 'namely': 2,\n",
              " 'mainland': 9,\n",
              " 'greater': 4,\n",
              " 'results': 6,\n",
              " 'craniological': 1,\n",
              " 'analysis': 7,\n",
              " '111': 2,\n",
              " 'skulls': 15,\n",
              " 'asian': 13,\n",
              " 'indicate': 6,\n",
              " 'sumatran': 12,\n",
              " 'differ': 5,\n",
              " 'indochinese': 8,\n",
              " 'javan': 8,\n",
              " 'whereas': 2,\n",
              " 'similar': 6,\n",
              " 'authors': 3,\n",
              " 'classify': 1,\n",
              " 'distinct': 3,\n",
              " 'sumatrae': 2,\n",
              " 'balica': 3,\n",
              " '13': 7,\n",
              " 'morphological': 1,\n",
              " 'ecological': 6,\n",
              " 'molecular': 2,\n",
              " 'traits': 1,\n",
              " 'analysed': 1,\n",
              " 'combined': 2,\n",
              " 'approach': 2,\n",
              " 'distinction': 1,\n",
              " 'evolutionary': 2,\n",
              " 'groups': 1,\n",
              " 'continental': 2,\n",
              " 'recognition': 1,\n",
              " 'comprising': 2,\n",
              " 'malayan': 5,\n",
              " 'chinese': 20,\n",
              " 'noted': 2,\n",
              " 'reclassification': 1,\n",
              " 'will': 7,\n",
              " 'affect': 1,\n",
              " 'management': 5,\n",
              " 'nominate': 1,\n",
              " 'constitutes': 1,\n",
              " 'clades': 2,\n",
              " '14': 6,\n",
              " 'northern': 9,\n",
              " 'clade': 2,\n",
              " 'composed': 2,\n",
              " 'southern': 13,\n",
              " 'one': 22,\n",
              " 'specialist': 6,\n",
              " 'welcomed': 1,\n",
              " 'proposal': 1,\n",
              " 'would': 2,\n",
              " 'make': 3,\n",
              " 'captive': 11,\n",
              " 'breeding': 11,\n",
              " 'programmes': 1,\n",
              " 'future': 3,\n",
              " 'rewilding': 1,\n",
              " 'zoo-born': 1,\n",
              " 'easier': 1,\n",
              " 'geneticist': 1,\n",
              " 'sceptical': 1,\n",
              " 'study': 6,\n",
              " 'maintained': 1,\n",
              " 'recognised': 2,\n",
              " 'nine': 3,\n",
              " 'can': 15,\n",
              " 'genetically': 1,\n",
              " '15': 6,\n",
              " '2017': 10,\n",
              " 'task': 3,\n",
              " 'force': 3,\n",
              " 'group': 6,\n",
              " 'revised': 3,\n",
              " 'felid': 2,\n",
              " 'recognized': 1,\n",
              " '16': 4,\n",
              " 'two-subspecies': 1,\n",
              " 'has': 28,\n",
              " 'largely': 2,\n",
              " 'rejected': 3,\n",
              " 'researchers': 1,\n",
              " '2018': 18,\n",
              " 'whole-genome': 1,\n",
              " 'sequencing': 1,\n",
              " '32': 5,\n",
              " 'six': 6,\n",
              " 'monophyletic': 1,\n",
              " 'corresponding': 2,\n",
              " 'recent': 4,\n",
              " 'common': 17,\n",
              " 'ancestor': 2,\n",
              " 'lived': 5,\n",
              " '110,000': 1,\n",
              " 'ago': 8,\n",
              " '17': 8,\n",
              " 'tables': 1,\n",
              " 'provided': 1,\n",
              " 'mammal': 4,\n",
              " 'reflects': 1,\n",
              " 'used': 11,\n",
              " 'image': 5,\n",
              " 'earlier': 3,\n",
              " 'naturalists': 1,\n",
              " 'conrad': 1,\n",
              " 'gessner': 1,\n",
              " 'ulisse': 1,\n",
              " 'aldrovandi': 1,\n",
              " 'skins': 8,\n",
              " 'collection': 1,\n",
              " 'natural': 10,\n",
              " 'history': 12,\n",
              " 'museum': 5,\n",
              " 'london': 16,\n",
              " 'light': 3,\n",
              " 'reddish': 1,\n",
              " 'black': 11,\n",
              " '†caspian': 1,\n",
              " 'formerly': 7,\n",
              " 'virgata': 2,\n",
              " 'illiger': 3,\n",
              " '1815': 2,\n",
              " '18': 7,\n",
              " 'particular': 2,\n",
              " 'specimen': 2,\n",
              " 'he': 5,\n",
              " 'assumed': 3,\n",
              " 'area': 12,\n",
              " 'elsewhere': 2,\n",
              " 'later': 5,\n",
              " 'having': 4,\n",
              " 'narrow': 2,\n",
              " 'closely': 3,\n",
              " 'set': 4,\n",
              " '19': 16,\n",
              " 'skull': 15,\n",
              " 'did': 2,\n",
              " 'significantly': 3,\n",
              " 'according': 2,\n",
              " 'genetic': 11,\n",
              " 'related': 5,\n",
              " 'had': 20,\n",
              " 'recorded': 7,\n",
              " 'until': 5,\n",
              " '1970s': 2,\n",
              " 'extinct': 6,\n",
              " 'late': 8,\n",
              " '20': 9,\n",
              " 'altaica': 5,\n",
              " 'temminck': 6,\n",
              " '1844': 3,\n",
              " '21': 6,\n",
              " 'unspecified': 2,\n",
              " 'hairs': 1,\n",
              " 'dense': 2,\n",
              " 'traded': 1,\n",
              " 'japan': 7,\n",
              " 'they': 36,\n",
              " 'originated': 1,\n",
              " 'altai': 1,\n",
              " 'mountains': 2,\n",
              " 'few': 5,\n",
              " 'brown': 6,\n",
              " 'amoyensis': 3,\n",
              " 'hilzheimer': 3,\n",
              " '1905': 2,\n",
              " '22': 5,\n",
              " 'five': 7,\n",
              " 'purchased': 1,\n",
              " 'hankou': 1,\n",
              " 'differed': 2,\n",
              " 'teeth': 7,\n",
              " 'jaw': 2,\n",
              " 'bones': 6,\n",
              " 'cm': 3,\n",
              " 'trade': 15,\n",
              " 'said': 2,\n",
              " 'vivid': 1,\n",
              " 'rhombus-like': 1,\n",
              " 'because': 6,\n",
              " 'differences': 2,\n",
              " 'shape': 2,\n",
              " 'thought': 7,\n",
              " 'constitute': 1,\n",
              " 'variety': 2,\n",
              " '23': 14,\n",
              " 'unique': 2,\n",
              " 'mtdna': 2,\n",
              " 'haplotype': 1,\n",
              " 'corbetti': 1,\n",
              " 'mazák': 8,\n",
              " '1968': 2,\n",
              " '24': 6,\n",
              " '25': 7,\n",
              " 'collections': 1,\n",
              " 'smaller': 12,\n",
              " 'than': 30,\n",
              " 'jacksoni': 3,\n",
              " 'luo': 9,\n",
              " 'al.': 1,\n",
              " '2004': 12,\n",
              " 'micro-satellite': 1,\n",
              " 'sequences': 2,\n",
              " 'pelage': 4,\n",
              " 'does': 3,\n",
              " '26': 9,\n",
              " 'there': 15,\n",
              " 'no': 11,\n",
              " 'clear': 5,\n",
              " 'geographical': 1,\n",
              " 'barrier': 1,\n",
              " 'thailand': 5,\n",
              " '†javan': 1,\n",
              " 'smooth': 1,\n",
              " 'hair': 2,\n",
              " 'compared': 3,\n",
              " '†bali': 1,\n",
              " 'schwarz': 4,\n",
              " '1912': 3,\n",
              " '27': 9,\n",
              " 'skin': 11,\n",
              " 'adult': 15,\n",
              " 'female': 16,\n",
              " 'argued': 1,\n",
              " 'brighter': 1,\n",
              " '28': 6,\n",
              " 'typical': 2,\n",
              " 'feature': 2,\n",
              " 'occipital': 1,\n",
              " 'plane': 1,\n",
              " 'analogous': 1,\n",
              " '29': 10,\n",
              " '30': 8,\n",
              " 'type': 11,\n",
              " 'numerous': 2,\n",
              " 'densely-set': 1,\n",
              " 'broad': 1,\n",
              " 'larger': 5,\n",
              " 'smallest': 1,\n",
              " 'unclear': 1,\n",
              " 'probably': 2,\n",
              " 'result': 3,\n",
              " 'insular': 2,\n",
              " 'dwarfism': 2,\n",
              " 'especially': 3,\n",
              " 'competition': 2,\n",
              " 'limited': 3,\n",
              " '6,000': 1,\n",
              " '12,000': 2,\n",
              " 'after': 9,\n",
              " 'rise': 3,\n",
              " 'sea-level': 1,\n",
              " 'created': 1,\n",
              " '31': 2,\n",
              " 'restoration': 1,\n",
              " 'zdanskyi': 2,\n",
              " 'relative': 1,\n",
              " 'whose': 1,\n",
              " 'fossil': 6,\n",
              " 'remains': 5,\n",
              " 'found': 11,\n",
              " 'northwest': 1,\n",
              " 'closest': 1,\n",
              " 'relatives': 2,\n",
              " 'previously': 1,\n",
              " 'lion': 23,\n",
              " 'leopard': 20,\n",
              " 'jaguar': 4,\n",
              " '2.88': 1,\n",
              " 'million': 5,\n",
              " 'snow': 8,\n",
              " 'lineages': 1,\n",
              " 'diverged': 1,\n",
              " 'both': 11,\n",
              " 'more': 29,\n",
              " 'each': 5,\n",
              " '33': 6,\n",
              " 'geographic': 6,\n",
              " 'likely': 3,\n",
              " 'tiger–snow': 1,\n",
              " 'lineage': 3,\n",
              " 'dispersed': 2,\n",
              " 'miocene': 2,\n",
              " '34': 3,\n",
              " 'sister': 2,\n",
              " 'taxon': 2,\n",
              " 'beginning': 1,\n",
              " 'excavated': 3,\n",
              " 'gansu': 1,\n",
              " 'northwestern': 2,\n",
              " 'primitive': 1,\n",
              " 'functionally': 1,\n",
              " 'ecologically': 1,\n",
              " 'disputed': 1,\n",
              " 'whether': 2,\n",
              " 'pattern': 5,\n",
              " 'grew': 1,\n",
              " 'possibly': 3,\n",
              " 'response': 2,\n",
              " 'adaptive': 1,\n",
              " 'radiations': 1,\n",
              " 'like': 4,\n",
              " 'bovids': 2,\n",
              " 'occurred': 2,\n",
              " '35': 1,\n",
              " '1.2': 1,\n",
              " 'fossils': 5,\n",
              " 'near': 2,\n",
              " 'trinil': 2,\n",
              " '36': 1,\n",
              " 'wanhsien': 1,\n",
              " 'ngandong': 1,\n",
              " 'japanese': 5,\n",
              " 'became': 6,\n",
              " 'prehistoric': 2,\n",
              " 'times': 12,\n",
              " '37': 6,\n",
              " ...}"
            ]
          },
          "metadata": {},
          "execution_count": 51
        }
      ]
    }
  ]
}