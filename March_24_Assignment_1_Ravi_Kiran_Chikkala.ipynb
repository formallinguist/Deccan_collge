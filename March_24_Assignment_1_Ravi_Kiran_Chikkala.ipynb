{
  "nbformat": 4,
  "nbformat_minor": 0,
  "metadata": {
    "colab": {
      "provenance": []
    },
    "kernelspec": {
      "name": "python3",
      "display_name": "Python 3"
    },
    "language_info": {
      "name": "python"
    }
  },
  "cells": [
    {
      "cell_type": "markdown",
      "source": [
        "#Question 1:"
      ],
      "metadata": {
        "id": "jLew5Zahd7q9"
      }
    },
    {
      "cell_type": "code",
      "execution_count": 11,
      "metadata": {
        "colab": {
          "base_uri": "https://localhost:8080/"
        },
        "id": "B6ClbpPpb63C",
        "outputId": "bcffdfbb-199d-4a09-e819-9a1717e72353"
      },
      "outputs": [
        {
          "output_type": "stream",
          "name": "stdout",
          "text": [
            "Enter the temperature in celcius4\n",
            "Answer: 4.0 degree celcius is equivalent to 39.2 degree Fahrenheit.\n"
          ]
        }
      ],
      "source": [
        "#Here I am using the input function for celcius.\n",
        "celsius = float(input('Enter the temperature in celcius'))\n",
        "#Here I used the formula to convert the celcius to fahrenheit.\n",
        "Fahrenheit =  celsius * (9/5) +32\n",
        "#Here, I am using the print function to display the answer.\n",
        "print(\"Answer:\",celsius,\"degree celcius is equivalent to\",Fahrenheit,\"degree Fahrenheit.\")"
      ]
    },
    {
      "cell_type": "markdown",
      "source": [
        "# Question 2:"
      ],
      "metadata": {
        "id": "TqdjPM9Ge0QV"
      }
    },
    {
      "cell_type": "code",
      "source": [
        "#Here, I am importing the math module.\n",
        "import math"
      ],
      "metadata": {
        "id": "Pj6zA9gejPLq"
      },
      "execution_count": 12,
      "outputs": []
    },
    {
      "cell_type": "code",
      "source": [
        "#Here I am using the input function for radius\n",
        "radius = float(input('Enter the Radius of a circle.  '))\n",
        "#Here I am calculating the area using the radius\n",
        "area = math.pi * radius ** 2\n",
        "#Here I am calculating the perimeter using radius\n",
        "perimeter = 2 * math.pi * radius\n",
        "#Here, I am using the print function to display the answer.\n",
        "print(f\"If the circle has a radius of {radius}, it has an area of {area} and its perimeter is {perimeter}.\")"
      ],
      "metadata": {
        "colab": {
          "base_uri": "https://localhost:8080/"
        },
        "id": "bBd4oekBfNOa",
        "outputId": "96fededb-ffbf-4471-af5e-bae778930db3"
      },
      "execution_count": 13,
      "outputs": [
        {
          "output_type": "stream",
          "name": "stdout",
          "text": [
            "Enter the Radius of a circle.  3\n",
            "If the circle has a radius of 3.0, it has an area of 28.274333882308138 and its perimeter is 18.84955592153876.\n"
          ]
        }
      ]
    },
    {
      "cell_type": "markdown",
      "source": [
        "#Question 3:\n"
      ],
      "metadata": {
        "id": "1jf64-S3mBXU"
      }
    },
    {
      "cell_type": "code",
      "source": [
        "#Here I am using the input function for amount\n",
        "amount = float(input('Enter the amount.'))\n",
        "#Here I am using the input function for percentage of interest.\n",
        "percentage_of_interest = float(input('Enter the percentage of interest.'))\n",
        "time = 1\n",
        "#Here I calculated the simple interest\n",
        "simple_interest = amount * percentage_of_interest * time / 100"
      ],
      "metadata": {
        "colab": {
          "base_uri": "https://localhost:8080/"
        },
        "id": "EM8XBh1OmGVh",
        "outputId": "054ba9c6-5da8-4e36-d051-ee6bd7c02a9f"
      },
      "execution_count": 14,
      "outputs": [
        {
          "name": "stdout",
          "output_type": "stream",
          "text": [
            "Enter the amount.4500\n",
            "Enter the percentage of interest.2\n"
          ]
        }
      ]
    },
    {
      "cell_type": "code",
      "source": [
        "#Here I am using print function to print the simple interest\n",
        "print(\"Simple interest is\",simple_interest)"
      ],
      "metadata": {
        "colab": {
          "base_uri": "https://localhost:8080/"
        },
        "id": "DTaUQTUqqL7F",
        "outputId": "7aeac0ae-7274-4685-e090-e99d733d3440"
      },
      "execution_count": 15,
      "outputs": [
        {
          "output_type": "stream",
          "name": "stdout",
          "text": [
            "Simple interest is 90.0\n"
          ]
        }
      ]
    },
    {
      "cell_type": "code",
      "source": [
        "#Here, I calculating the total amount\n",
        "total_amount = amount+ simple_interest"
      ],
      "metadata": {
        "id": "68SP_JH_qTXF"
      },
      "execution_count": 16,
      "outputs": []
    },
    {
      "cell_type": "code",
      "source": [
        "#Here I am using the print function to print the total amount.\n",
        "print(\"Total amount is\",total_amount)"
      ],
      "metadata": {
        "colab": {
          "base_uri": "https://localhost:8080/"
        },
        "id": "Pbt6OJd5qdxd",
        "outputId": "bfbf88b3-265c-4a6d-8d2f-f29b824eeb42"
      },
      "execution_count": 17,
      "outputs": [
        {
          "output_type": "stream",
          "name": "stdout",
          "text": [
            "Total amount is 4590.0\n"
          ]
        }
      ]
    },
    {
      "cell_type": "markdown",
      "source": [
        "#Question 4:"
      ],
      "metadata": {
        "id": "T3pq5TFvQKDh"
      }
    },
    {
      "cell_type": "code",
      "source": [
        "#Here I am using the input function to get the value distance in meters.\n",
        "distance_value_in_meters = float(input('Enter the value in meters.'))\n",
        "#Here I am converting the meters to centimeters.\n",
        "distance_value_in_centimeters = distance_value_in_meters * 100\n",
        "#Here I am converting the meters to inches.\n",
        "distance_value_in_inches = distance_value_in_meters * 39.26\n",
        "#Here I am converting the meters to yards.\n",
        "distance_value_in_yards = distance_value_in_meters * 1.0963"
      ],
      "metadata": {
        "colab": {
          "base_uri": "https://localhost:8080/"
        },
        "id": "MxeksANMQyxG",
        "outputId": "aae80931-a7ee-4f41-c9b5-0676a384a71b"
      },
      "execution_count": 18,
      "outputs": [
        {
          "name": "stdout",
          "output_type": "stream",
          "text": [
            "Enter the value in meters.45\n"
          ]
        }
      ]
    },
    {
      "cell_type": "code",
      "source": [
        "#Here we are using the print function to print the answers.\n",
        "print(f\"{distance_value_in_meters} meters, is equal to {distance_value_in_centimeters} in cm,{distance_value_in_inches} inches,and {distance_value_in_yards} yards.\")"
      ],
      "metadata": {
        "colab": {
          "base_uri": "https://localhost:8080/"
        },
        "id": "vaV9GYTg8AMT",
        "outputId": "b3fed9d8-c975-4444-cea9-21ceecef00aa"
      },
      "execution_count": 19,
      "outputs": [
        {
          "output_type": "stream",
          "name": "stdout",
          "text": [
            "45.0 meters, is equal to 4500.0 in cm,1766.6999999999998 inches,and 49.3335 yards.\n"
          ]
        }
      ]
    },
    {
      "cell_type": "markdown",
      "source": [
        "#Question 5:"
      ],
      "metadata": {
        "id": "7ZsEn0lvYhXh"
      }
    },
    {
      "cell_type": "code",
      "source": [
        "#Here I am using the input function to take the name.\n",
        "name = input(' Enter your name')\n",
        "#Here I am using upper method on the name.\n",
        "print(\"name in upper:\",name.upper())\n",
        "#Here I am using lower method on the name.\n",
        "print(\"name in lower:\",name.lower())\n",
        "#Here I am using title method on the name.\n",
        "print(\"name in title case:\",name.title())"
      ],
      "metadata": {
        "colab": {
          "base_uri": "https://localhost:8080/"
        },
        "id": "MOTOfoesYki3",
        "outputId": "a843f0a1-8ca9-475e-c3ad-c0a36e7f58d3"
      },
      "execution_count": 20,
      "outputs": [
        {
          "output_type": "stream",
          "name": "stdout",
          "text": [
            " Enter your nameRavi Kiran\n",
            "name in upper: RAVI KIRAN\n",
            "name in lower: ravi kiran\n",
            "name in title case: Ravi Kiran\n"
          ]
        }
      ]
    }
  ]
}