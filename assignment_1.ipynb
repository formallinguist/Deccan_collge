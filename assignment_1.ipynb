{
  "nbformat": 4,
  "nbformat_minor": 0,
  "metadata": {
    "colab": {
      "name": "assignment_1",
      "provenance": []
    },
    "kernelspec": {
      "name": "python3",
      "display_name": "Python 3"
    },
    "language_info": {
      "name": "python"
    }
  },
  "cells": [
    {
      "cell_type": "markdown",
      "source": [
        "#First_problem"
      ],
      "metadata": {
        "id": "6gURgupmBFA4"
      }
    },
    {
      "cell_type": "code",
      "source": [
        "#Reading celcius Temperature.\n",
        "cel_temp = int(input(\"Enter the value of celcius \")) "
      ],
      "metadata": {
        "colab": {
          "base_uri": "https://localhost:8080/"
        },
        "id": "TverjC3HC2Ta",
        "outputId": "015a8a06-c1ad-482b-b590-b79d4b47386b"
      },
      "execution_count": 2,
      "outputs": [
        {
          "name": "stdout",
          "output_type": "stream",
          "text": [
            "Enter the value of celcius 45\n"
          ]
        }
      ]
    },
    {
      "cell_type": "code",
      "source": [
        "#Converting celcius Temperature to the equivalent Fahrenheit Temperature.\n",
        "fahren_temp = (cel_temp*1.8)+32\n",
        "print(\"Fahrenheit temperature is\",fahren_temp)"
      ],
      "metadata": {
        "id": "WEyrABDjlzQW",
        "colab": {
          "base_uri": "https://localhost:8080/"
        },
        "outputId": "eb1736dd-eacd-40aa-9ccc-64a704ec5579"
      },
      "execution_count": 3,
      "outputs": [
        {
          "output_type": "stream",
          "name": "stdout",
          "text": [
            "Fahrenheit temperature is 113.0\n"
          ]
        }
      ]
    },
    {
      "cell_type": "markdown",
      "source": [
        "#Second_problem"
      ],
      "metadata": {
        "id": "zceVNYqqBS6p"
      }
    },
    {
      "cell_type": "code",
      "source": [
        "#Reading radius of circle from user.\n",
        "radius = int(input(\"Enter the value of radius \"))\n",
        "pi = 3.14\n",
        "#Finding the area of circle.\n",
        "area_of_circle = float(pi*(radius**2))\n",
        "print(\"The area of circle is\",area_of_circle)"
      ],
      "metadata": {
        "id": "Gs4CWqfGn5tq",
        "colab": {
          "base_uri": "https://localhost:8080/"
        },
        "outputId": "0efc9be6-abb4-4cd0-b79c-90a27e8b386c"
      },
      "execution_count": 4,
      "outputs": [
        {
          "output_type": "stream",
          "name": "stdout",
          "text": [
            "Enter the value of radius 45\n",
            "The area of circle is 6358.5\n"
          ]
        }
      ]
    },
    {
      "cell_type": "code",
      "source": [
        "#Finding the perimeter of circle.\n",
        "perimeter_of_circle = (2*pi)*radius\n",
        "print(\"The perimeter of circle is \",perimeter_of_circle)"
      ],
      "metadata": {
        "colab": {
          "base_uri": "https://localhost:8080/"
        },
        "id": "neWCMv1nD6_N",
        "outputId": "58c1dad4-78e2-4bce-a3f8-11c5df9e4352"
      },
      "execution_count": 5,
      "outputs": [
        {
          "output_type": "stream",
          "name": "stdout",
          "text": [
            "The perimeter of circle is  282.6\n"
          ]
        }
      ]
    },
    {
      "cell_type": "markdown",
      "source": [
        "#Third_Problem"
      ],
      "metadata": {
        "id": "SOHo2gzOC0bN"
      }
    },
    {
      "cell_type": "code",
      "source": [
        "#Reading the amount of interest.\n",
        "amount = float(input(\"Enter the value of amount \"))\n",
        "#Reading the percentage of interest.\n",
        "per_intrest = float(input(\"Enter the value of  interest \"))\n",
        "#Calculating Interest\n",
        "interest = per_intrest/100 * amount\n",
        "#Calculating the final amount\n",
        "final_amount = interest + amount\n",
        "print(\"Final amount is\",final_amount)"
      ],
      "metadata": {
        "colab": {
          "base_uri": "https://localhost:8080/"
        },
        "id": "gaMwQOJ3AaI9",
        "outputId": "b80e7dfc-f673-4bd8-8e31-38f6d54ea502"
      },
      "execution_count": 6,
      "outputs": [
        {
          "output_type": "stream",
          "name": "stdout",
          "text": [
            "Enter the value of amount 456\n",
            "Enter the value of  interest 45\n",
            "Final amount is 661.2\n"
          ]
        }
      ]
    },
    {
      "cell_type": "markdown",
      "source": [
        "#Fourth_Problem."
      ],
      "metadata": {
        "id": "RKwOBLetEar1"
      }
    },
    {
      "cell_type": "code",
      "source": [
        "#Reading distance value in meters.\n",
        "dist_in_meters = int(input(\"Enter the value in meters  \"))"
      ],
      "metadata": {
        "colab": {
          "base_uri": "https://localhost:8080/"
        },
        "id": "EnoM4hKFEd3A",
        "outputId": "8f8a534d-3540-4a2e-dd36-6d0d25e567fb"
      },
      "execution_count": 8,
      "outputs": [
        {
          "name": "stdout",
          "output_type": "stream",
          "text": [
            "Enter the value in meters  45\n"
          ]
        }
      ]
    },
    {
      "cell_type": "code",
      "source": [
        "#conversion of meters into centimeters\n",
        "conv_centimeters= dist_in_meters*100\n",
        "print( \"value in centimeters\",conv_centimeters)"
      ],
      "metadata": {
        "colab": {
          "base_uri": "https://localhost:8080/"
        },
        "id": "3uJXhG96EmyI",
        "outputId": "095fa13c-7911-4771-c2ae-05ef5d380d3d"
      },
      "execution_count": 9,
      "outputs": [
        {
          "output_type": "stream",
          "name": "stdout",
          "text": [
            "value in centimeters 4500\n"
          ]
        }
      ]
    },
    {
      "cell_type": "code",
      "source": [
        "#conversion of meters to inches.\n",
        "conv_inches = dist_in_meters*39.37\n",
        "print(\"value in inches\",conv_inches)"
      ],
      "metadata": {
        "colab": {
          "base_uri": "https://localhost:8080/"
        },
        "id": "A_CE1HFRFWx6",
        "outputId": "339a7a45-67bd-4b50-d8e9-333d87448754"
      },
      "execution_count": 10,
      "outputs": [
        {
          "output_type": "stream",
          "name": "stdout",
          "text": [
            "value in inches 1771.6499999999999\n"
          ]
        }
      ]
    },
    {
      "cell_type": "code",
      "source": [
        "#conversion of meters to yards.\n",
        "conv_yard = dist_in_meters*1.093\n",
        "print(\"value in yards\",conv_yard)"
      ],
      "metadata": {
        "colab": {
          "base_uri": "https://localhost:8080/"
        },
        "id": "OIfBANMsGHVQ",
        "outputId": "7231df02-c61c-4418-f5cf-614f9d1c2026"
      },
      "execution_count": 11,
      "outputs": [
        {
          "output_type": "stream",
          "name": "stdout",
          "text": [
            "value in yards 49.185\n"
          ]
        }
      ]
    },
    {
      "cell_type": "markdown",
      "source": [
        "#5th_problem."
      ],
      "metadata": {
        "id": "IIJh1TVvG7Jr"
      }
    },
    {
      "cell_type": "code",
      "source": [
        "#Reading name from the keyboard.\n",
        "name = input(\"Enter name \")"
      ],
      "metadata": {
        "colab": {
          "base_uri": "https://localhost:8080/"
        },
        "id": "XVaBeN7zGpnQ",
        "outputId": "b73215da-d45c-43c2-c677-709c27b1b66a"
      },
      "execution_count": 12,
      "outputs": [
        {
          "name": "stdout",
          "output_type": "stream",
          "text": [
            "Enter name ravi\n"
          ]
        }
      ]
    },
    {
      "cell_type": "code",
      "source": [
        "#Printing in uppercase\n",
        "name.upper()"
      ],
      "metadata": {
        "colab": {
          "base_uri": "https://localhost:8080/",
          "height": 35
        },
        "id": "Ao_f-FvRJpI6",
        "outputId": "752ecc31-8be8-4605-9bbf-e70070da8ed3"
      },
      "execution_count": 13,
      "outputs": [
        {
          "output_type": "execute_result",
          "data": {
            "text/plain": [
              "'RAVI'"
            ],
            "application/vnd.google.colaboratory.intrinsic+json": {
              "type": "string"
            }
          },
          "metadata": {},
          "execution_count": 13
        }
      ]
    },
    {
      "cell_type": "code",
      "source": [
        "#Printing in lowercase\n",
        "name.lower()"
      ],
      "metadata": {
        "colab": {
          "base_uri": "https://localhost:8080/",
          "height": 35
        },
        "id": "evIUUckYJtZx",
        "outputId": "d1f92ea1-271e-4cc2-a52d-0b9baf2a11ea"
      },
      "execution_count": 14,
      "outputs": [
        {
          "output_type": "execute_result",
          "data": {
            "text/plain": [
              "'ravi'"
            ],
            "application/vnd.google.colaboratory.intrinsic+json": {
              "type": "string"
            }
          },
          "metadata": {},
          "execution_count": 14
        }
      ]
    },
    {
      "cell_type": "code",
      "source": [
        "#Printing in Titlecase.\n",
        "name.title()"
      ],
      "metadata": {
        "colab": {
          "base_uri": "https://localhost:8080/",
          "height": 35
        },
        "id": "rHJtvtbFJwXB",
        "outputId": "b3e1ac72-aa43-4fc8-8022-5fe945f54917"
      },
      "execution_count": 15,
      "outputs": [
        {
          "output_type": "execute_result",
          "data": {
            "text/plain": [
              "'Ravi'"
            ],
            "application/vnd.google.colaboratory.intrinsic+json": {
              "type": "string"
            }
          },
          "metadata": {},
          "execution_count": 15
        }
      ]
    },
    {
      "cell_type": "code",
      "source": [
        "#Checking if the name is in complete lowercase\n",
        "name.islower()"
      ],
      "metadata": {
        "colab": {
          "base_uri": "https://localhost:8080/"
        },
        "id": "4DhylijFIupU",
        "outputId": "50785a79-0e25-40fd-a3b0-e41d3d65f888"
      },
      "execution_count": 16,
      "outputs": [
        {
          "output_type": "execute_result",
          "data": {
            "text/plain": [
              "True"
            ]
          },
          "metadata": {},
          "execution_count": 16
        }
      ]
    },
    {
      "cell_type": "code",
      "source": [
        "#Checking to see if the name is starting with the letter \"a\"\n",
        "name.startswith (\"a\")"
      ],
      "metadata": {
        "colab": {
          "base_uri": "https://localhost:8080/"
        },
        "id": "A-g-yvpaI33o",
        "outputId": "8460722a-5f31-478e-91d9-1249261cb5fc"
      },
      "execution_count": 17,
      "outputs": [
        {
          "output_type": "execute_result",
          "data": {
            "text/plain": [
              "False"
            ]
          },
          "metadata": {},
          "execution_count": 17
        }
      ]
    }
  ]
}